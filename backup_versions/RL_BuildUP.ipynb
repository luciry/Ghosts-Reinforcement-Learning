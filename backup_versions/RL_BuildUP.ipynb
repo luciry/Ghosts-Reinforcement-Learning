{
 "cells": [
  {
   "cell_type": "code",
   "execution_count": 173,
   "metadata": {},
   "outputs": [],
   "source": [
    "import gym\n",
    "from gym import spaces\n",
    "import numpy as np\n",
    "import random\n",
    "from collections import deque\n",
    "import matplotlib.pyplot as plt\n",
    "import torch\n",
    "import torch.nn as nn\n",
    "import torch.optim as optim\n",
    "from matplotlib.colors import ListedColormap\n",
    "import time\n"
   ]
  },
  {
   "cell_type": "code",
   "execution_count": 174,
   "metadata": {},
   "outputs": [],
   "source": [
    "\n",
    "# Constants for cell states\n",
    "EMPTY = 0\n",
    "GOOD_GHOST_PLAYER = 1\n",
    "BAD_GHOST_PLAYER = 2\n",
    "GOOD_GHOST_OPPONENT = 3\n",
    "BAD_GHOST_OPPONENT = 4\n",
    "OPPONENT_CORNER = 5\n",
    "PLAYER_CORNER = 6\n",
    "\n",
    "# Reward structure\n",
    "REACH_CORNER_REWARD = 100\n",
    "CAPTURE_GOOD_GHOST_PENALTY = -50\n",
    "CAPTURE_BAD_GHOST_REWARD = 50\n",
    "OPPONENT_CAPUTRE_YOUR_GOOD_GHOST_PENALTY = -50\n",
    "OPPONENT_CAPUTRE_YOUR_BAD_GHOST_REWARD = 50\n",
    "OPPONENT_CORNER_REWARD = -100"
   ]
  },
  {
   "cell_type": "code",
   "execution_count": 175,
   "metadata": {},
   "outputs": [],
   "source": [
    "\n",
    "\n",
    "class GhostsEnv:\n",
    "    def __init__(self):\n",
    "        self.board = np.zeros((6, 6), dtype=int)\n",
    "        self.ghost_positions = []\n",
    "        self.current_phase = 'placement'\n",
    "        self.current_turn = 1\n",
    "        self.placement_count = 0\n",
    "        self.previous_winning_positions = []\n",
    "      \n",
    "    def reset(self):\n",
    "        self.board = np.zeros((6, 6), dtype=int)\n",
    "        self.ghost_positions = []\n",
    "        self.current_phase = 'placement'\n",
    "        self.current_turn = 1\n",
    "        self.placement_count = 0\n",
    "        # Set corner states\n",
    "        self.board[0, 0] = self.board[0, 5] = OPPONENT_CORNER\n",
    "        self.board[5, 0] = self.board[5, 5] = PLAYER_CORNER\n",
    "        return self.board\n",
    "    \n",
    "    def get_valid_actions(self):\n",
    "        valid_actions = []\n",
    "        if self.current_phase == 'placement':\n",
    "            if self.current_turn == 1:  # Player's turn\n",
    "                rows = [5, 4]\n",
    "            else:  # Opponent's turn\n",
    "                rows = [0, 1]\n",
    "            \n",
    "            for row in rows:\n",
    "                for col in range(1, 5):\n",
    "                    if self.board[row, col] == EMPTY:\n",
    "                        valid_actions.append(4 * (row % 4) + (col - 1))\n",
    "        else:  # Movement phase\n",
    "            for i, (x, y) in enumerate(self.ghost_positions):\n",
    "                if (self.current_turn == 1 and self.board[x, y] in [GOOD_GHOST, BAD_GHOST]) or \\\n",
    "                   (self.current_turn == 2 and self.board[x, y] in [GOOD_GHOST_OPPONENT, BAD_GHOST_OPPONENT]):\n",
    "                    for dx, dy in [(-1, 0), (1, 0), (0, -1), (0, 1)]:\n",
    "                        new_x, new_y = x + dx, y + dy\n",
    "                        if 0 <= new_x < 6 and 0 <= new_y < 6 and self.board[new_x, new_y] == EMPTY:\n",
    "                            valid_actions.append(i * 5 + [(-1, 0), (1, 0), (0, -1), (0, 1)].index((dx, dy)))\n",
    "                    # Add capture action\n",
    "                    for adj_x, adj_y in self.get_adjacent_positions((x, y)):\n",
    "                        if (self.current_turn == 1 and self.board[adj_x, adj_y] in [GOOD_GHOST_OPPONENT, BAD_GHOST_OPPONENT]) or \\\n",
    "                           (self.current_turn == 2 and self.board[adj_x, adj_y] in [GOOD_GHOST, BAD_GHOST]):\n",
    "                            valid_actions.append(i * 5 + 4)\n",
    "                            break\n",
    "        \n",
    "        if not valid_actions:\n",
    "            print(\"Warning: No valid actions available.\")\n",
    "            print(\"Current board state:\")\n",
    "            print(self.board)\n",
    "            print(f\"Current phase: {self.current_phase}\")\n",
    "            print(f\"Current turn: {self.current_turn}\")\n",
    "            print(f\"Placement count: {self.placement_count}\")\n",
    "            print(f\"Ghost positions: {self.ghost_positions}\")\n",
    "        \n",
    "        return valid_actions\n",
    "\n",
    "    def step(self, action):\n",
    "        if self.current_phase == 'placement':\n",
    "            return self.placement_step(action)\n",
    "        else:\n",
    "            return self.movement_step(action)\n",
    "\n",
    "    def placement_step(self, action):\n",
    "        reward = 0\n",
    "        row = 5 if action < 4 else 4 if self.current_turn == 1 else 0 if action < 4 else 1\n",
    "        col = (action % 4) + 1\n",
    "        \n",
    "        if self.current_turn == 1:  # Player's turn\n",
    "            ghost_type = GOOD_GHOST if self.placement_count < 4 else BAD_GHOST\n",
    "        else:  # Opponent's turn\n",
    "            ghost_type = GOOD_GHOST_OPPONENT if random.random() < 0.5 else BAD_GHOST_OPPONENT\n",
    "\n",
    "        self.board[row, col] = ghost_type\n",
    "        self.ghost_positions.append((row, col))\n",
    "        reward = 10 if ghost_type in [GOOD_GHOST, GOOD_GHOST_OPPONENT] else 5\n",
    "        self.placement_count += 1\n",
    "        self.current_turn = 3 - self.current_turn\n",
    "\n",
    "        if self.placement_count == 16:\n",
    "            self.current_phase = 'movement'\n",
    "            reward += self.reward_for_initial_position()\n",
    "\n",
    "        return self.board, reward, False, {}\n",
    "\n",
    "    def movement_step(self, action):\n",
    "        ghost_index = action // 5\n",
    "        direction = action % 5\n",
    "\n",
    "        if direction == 4:  # Capture action\n",
    "            return self.capture_ghost(ghost_index)\n",
    "        else:\n",
    "            return self.move_ghost(ghost_index, direction)\n",
    "\n",
    "    def move_ghost(self, ghost_index, direction):\n",
    "        current_pos = self.ghost_positions[ghost_index]\n",
    "        new_pos = self.get_new_position(current_pos, direction)\n",
    "\n",
    "        ghost_type = self.board[current_pos]\n",
    "        self.board[current_pos] = EMPTY\n",
    "        self.board[new_pos] = ghost_type\n",
    "        self.ghost_positions[ghost_index] = new_pos\n",
    "\n",
    "        reward, done = self.check_win_conditions()\n",
    "        reward += MOVE_PENALTY\n",
    "\n",
    "        self.current_turn = 3 - self.current_turn\n",
    "        return self.board, reward, done, {}\n",
    "\n",
    "    def capture_ghost(self, ghost_index):\n",
    "        current_pos = self.ghost_positions[ghost_index]\n",
    "        adjacent_positions = self.get_adjacent_positions(current_pos)\n",
    "\n",
    "        for pos in adjacent_positions:\n",
    "            if (self.current_turn == 1 and self.board[pos] in [GOOD_GHOST_OPPONENT, BAD_GHOST_OPPONENT]) or \\\n",
    "               (self.current_turn == 2 and self.board[pos] in [GOOD_GHOST, BAD_GHOST]):\n",
    "                captured_ghost = self.board[pos]\n",
    "                if captured_ghost in [BAD_GHOST_OPPONENT, BAD_GHOST]:\n",
    "                    reward = CAPTURE_BAD_GHOST_REWARD\n",
    "                else:\n",
    "                    reward = CAPTURE_GOOD_GHOST_PENALTY\n",
    "                self.board[pos] = EMPTY\n",
    "                self.ghost_positions.remove(pos)\n",
    "                done = self.check_win_conditions()[1]\n",
    "                self.current_turn = 3 - self.current_turn\n",
    "                return self.board, reward, done, {}\n",
    "\n",
    "        return self.board, MOVE_PENALTY, False, {}\n",
    "\n",
    "    def get_new_position(self, current_pos, direction):\n",
    "        x, y = current_pos\n",
    "        if direction == 0:  # Up\n",
    "            return (x - 1, y)\n",
    "        elif direction == 1:  # Down\n",
    "            return (x + 1, y)\n",
    "        elif direction == 2:  # Left\n",
    "            return (x, y - 1)\n",
    "        elif direction == 3:  # Right\n",
    "            return (x, y + 1)\n",
    "\n",
    "    def get_adjacent_positions(self, pos):\n",
    "        x, y = pos\n",
    "        return [(x + dx, y + dy) for dx, dy in [(-1, 0), (1, 0), (0, -1), (0, 1)] if 0 <= x + dx < 6 and 0 <= y + dy < 6]\n",
    "\n",
    "    def check_win_conditions(self):\n",
    "        if self.player_reaches_corner():\n",
    "            self.store_winning_position()\n",
    "            return REACH_CORNER_REWARD, True\n",
    "        elif self.all_good_ghosts_captured():\n",
    "            return CAPTURE_GOOD_GHOST_PENALTY, True\n",
    "        return 0, False\n",
    "\n",
    "    def player_reaches_corner(self):\n",
    "        return self.board[0, 0] == GOOD_GHOST or self.board[0, 5] == GOOD_GHOST\n",
    "\n",
    "    def all_good_ghosts_captured(self):\n",
    "        return np.sum(self.board == GOOD_GHOST) == 0\n",
    "\n",
    "    def reward_for_initial_position(self):\n",
    "        if not self.previous_winning_positions:\n",
    "            return 0\n",
    "        similarity_score = sum(1 for current, previous in zip(self.ghost_positions, self.previous_winning_positions) if current == previous)\n",
    "        return similarity_score * 2\n",
    "\n",
    "    def store_winning_position(self):\n",
    "        self.previous_winning_positions = self.ghost_positions.copy()"
   ]
  },
  {
   "cell_type": "code",
   "execution_count": 176,
   "metadata": {},
   "outputs": [],
   "source": [
    "class DQN(nn.Module):\n",
    "    def __init__(self, input_size, output_size):\n",
    "        super(DQN, self).__init__()\n",
    "        self.fc1 = nn.Linear(input_size, 128)\n",
    "        self.fc2 = nn.Linear(128, 64)\n",
    "        self.fc3 = nn.Linear(64, output_size)\n",
    "\n",
    "    def forward(self, x):\n",
    "        x = torch.relu(self.fc1(x))\n",
    "        x = torch.relu(self.fc2(x))\n",
    "        return self.fc3(x)\n",
    "\n",
    "class GhostsAgent:\n",
    "    def __init__(self, env):\n",
    "        self.env = env\n",
    "        self.device = torch.device(\"cuda\" if torch.cuda.is_available() else \"cpu\")\n",
    "        self.model = DQN(6*6, 13).to(self.device)  # 6x6 board flattened, 13 possible actions\n",
    "        self.target_model = DQN(6*6, 13).to(self.device)\n",
    "        self.target_model.load_state_dict(self.model.state_dict())\n",
    "        self.optimizer = optim.Adam(self.model.parameters())\n",
    "        self.memory = deque(maxlen=10000)\n",
    "        self.batch_size = 64\n",
    "        self.gamma = 0.99\n",
    "        self.epsilon = 1.0\n",
    "        self.epsilon_decay = 0.995\n",
    "        self.epsilon_min = 0.01\n",
    "        self.update_target_every = 100\n",
    "        self.episode_rewards = []\n",
    "\n",
    "    def remember(self, state, action, reward, next_state, done):\n",
    "        self.memory.append((state.flatten(), action, reward, next_state.flatten(), done))\n",
    "\n",
    "    def act(self, state):\n",
    "        valid_actions = self.env.get_valid_actions()\n",
    "        if random.random() <= self.epsilon:\n",
    "            return random.choice(valid_actions)\n",
    "        state = torch.FloatTensor(state.flatten()).unsqueeze(0).to(self.device)\n",
    "        q_values = self.model(state)\n",
    "        valid_q_values = q_values[0, valid_actions]\n",
    "        return valid_actions[torch.argmax(valid_q_values).item()]\n",
    "\n",
    "    def replay(self):\n",
    "        if len(self.memory) < self.batch_size:\n",
    "            return\n",
    "        batch = random.sample(self.memory, self.batch_size)\n",
    "        states, actions, rewards, next_states, dones = zip(*batch)\n",
    "\n",
    "        states = torch.FloatTensor(np.array(states)).to(self.device)\n",
    "        actions = torch.LongTensor(actions).to(self.device)\n",
    "        rewards = torch.FloatTensor(rewards).to(self.device)\n",
    "        next_states = torch.FloatTensor(np.array(next_states)).to(self.device)\n",
    "        dones = torch.FloatTensor(dones).to(self.device)\n",
    "\n",
    "        current_q_values = self.model(states).gather(1, actions.unsqueeze(1))\n",
    "        next_q_values = self.target_model(next_states).max(1)[0].detach()\n",
    "        target_q_values = rewards + (1 - dones) * self.gamma * next_q_values\n",
    "\n",
    "        loss = nn.MSELoss()(current_q_values, target_q_values.unsqueeze(1))\n",
    "        self.optimizer.zero_grad()\n",
    "        loss.backward()\n",
    "        self.optimizer.step()\n",
    "\n",
    "    def train(self, episodes):\n",
    "        fig, (ax1, ax2) = plt.subplots(1, 2, figsize=(15, 6))\n",
    "        cmap = ListedColormap(['white', 'green', 'red', 'blue', 'yellow', 'purple', 'orange'])\n",
    "\n",
    "        for episode in range(episodes):\n",
    "            state = self.env.reset()\n",
    "            done = False\n",
    "            total_reward = 0\n",
    "            steps = 0\n",
    "\n",
    "            while not done:\n",
    "                action = self.act(state)\n",
    "                next_state, reward, done, _ = self.env.step(action)\n",
    "                self.remember(state, action, reward, next_state, done)\n",
    "\n",
    "                # Visualize the game board\n",
    "                ax1.clear()\n",
    "                ax1.imshow(state, cmap=cmap, vmin=0, vmax=6)\n",
    "                ax1.set_title(f\"Episode {episode}, Step {steps}\")\n",
    "                for i in range(6):\n",
    "                    for j in range(6):\n",
    "                        ax1.text(j, i, str(int(state[i, j])), ha='center', va='center')\n",
    "\n",
    "                # Plot rewards\n",
    "                ax2.clear()\n",
    "                ax2.plot(self.episode_rewards)\n",
    "                ax2.set_title(\"Rewards per Episode\")\n",
    "                ax2.set_xlabel(\"Episode\")\n",
    "                ax2.set_ylabel(\"Total Reward\")\n",
    "\n",
    "                plt.draw()\n",
    "                plt.pause(0.1)\n",
    "\n",
    "                # Print detailed information\n",
    "                print(f\"Episode: {episode}, Step: {steps}\")\n",
    "                print(f\"Action: {action}\")\n",
    "                print(f\"Reward: {reward}\")\n",
    "                print(\"Current State:\")\n",
    "                print(state)\n",
    "                print(\"Next State:\")\n",
    "                print(next_state)\n",
    "                print(f\"Done: {done}\")\n",
    "                print(\"-------------------\")\n",
    "\n",
    "                state = next_state\n",
    "                total_reward += reward\n",
    "                steps += 1\n",
    "\n",
    "                if len(self.memory) > self.batch_size:\n",
    "                    self.replay()\n",
    "\n",
    "            self.episode_rewards.append(total_reward)\n",
    "            self.epsilon = max(self.epsilon_min, self.epsilon * self.epsilon_decay)\n",
    "\n",
    "            if episode % self.update_target_every == 0:\n",
    "                self.target_model.load_state_dict(self.model.state_dict())\n",
    "\n",
    "            print(f\"Episode {episode} finished. Total Reward: {total_reward}, Steps: {steps}, Epsilon: {self.epsilon:.4f}\")\n",
    "            time.sleep(1)  # Pause between episodes\n",
    "\n",
    "        plt.close()\n",
    "        print(\"Training completed.\")\n",
    "\n",
    "    def visualize_training(self):\n",
    "        episodes = len(self.episode_rewards)\n",
    "        plt.figure(figsize=(12, 6))\n",
    "        plt.plot(range(episodes), self.episode_rewards)\n",
    "        plt.title('Reward per Episode')\n",
    "        plt.xlabel('Episode')\n",
    "        plt.ylabel('Total Reward')\n",
    "        plt.show()\n",
    "\n",
    "        avg_reward = sum(self.episode_rewards) / episodes\n",
    "        max_reward = max(self.episode_rewards)\n",
    "        min_reward = min(self.episode_rewards)\n",
    "\n",
    "        print(f\"Average Reward: {avg_reward:.2f}\")\n",
    "        print(f\"Max Reward: {max_reward}\")\n",
    "        print(f\"Min Reward: {min_reward}\")\n",
    "\n",
    "        plt.figure(figsize=(12, 6))\n",
    "        plt.hist(self.episode_rewards, bins=50)\n",
    "        plt.title('Distribution of Rewards')\n",
    "        plt.xlabel('Reward')\n",
    "        plt.ylabel('Frequency')\n",
    "        plt.show()\n",
    "\n",
    "        window_size = 100\n",
    "        moving_avg = np.convolve(self.episode_rewards, np.ones(window_size)/window_size, mode='valid')\n",
    "        plt.figure(figsize=(12, 6))\n",
    "        plt.plot(range(len(moving_avg)), moving_avg)\n",
    "        plt.title(f'Moving Average of Rewards (Window Size: {window_size})')\n",
    "        plt.xlabel('Episode')\n",
    "        plt.ylabel('Average Reward')\n",
    "        plt.show()\n",
    "\n",
    "    def evaluate(self, episodes):\n",
    "        total_rewards = []\n",
    "        for episode in range(episodes):\n",
    "            state = self.env.reset()\n",
    "            done = False\n",
    "            episode_reward = 0\n",
    "\n",
    "            while not done:\n",
    "                action = self.act(state)\n",
    "                next_state, reward, done, _ = self.env.step(action)\n",
    "                state = next_state\n",
    "                episode_reward += reward\n",
    "\n",
    "                self.env.render_board()\n",
    "                print(f\"Action: {action}, Reward: {reward}\")\n",
    "\n",
    "            total_rewards.append(episode_reward)\n",
    "            print(f\"Episode {episode + 1} finished with total reward: {episode_reward}\")\n",
    "\n",
    "        avg_reward = sum(total_rewards) / episodes\n",
    "        print(f\"Average Reward over {episodes} episodes: {avg_reward:.2f}\")\n",
    "        return avg_reward\n",
    "\n",
    "    def play_games(self, num_games=1, human_player=False):\n",
    "        total_rewards = []\n",
    "        for i in range(num_games):\n",
    "            print(f\"\\nGame {i+1}\")\n",
    "            state = self.env.reset()\n",
    "            done = False\n",
    "            total_reward = 0\n",
    "            \n",
    "            while not done:\n",
    "                self.env.render_board()\n",
    "                \n",
    "                if human_player and self.env.current_turn == 1:\n",
    "                    action = self.env.get_human_action()\n",
    "                else:\n",
    "                    action = self.act(state)\n",
    "                \n",
    "                next_state, reward, done, _ = self.env.step(action)\n",
    "                total_reward += reward\n",
    "                \n",
    "                print(f\"Action: {action}, Reward: {reward}\")\n",
    "                \n",
    "                state = next_state\n",
    "                self.env.current_turn = 3 - self.env.current_turn  # Switch turns (1 -> 2, 2 -> 1)\n",
    "            \n",
    "            self.env.render_board()\n",
    "            print(f\"Game Over! Total Reward: {total_reward}\")\n",
    "            total_rewards.append(total_reward)\n",
    "        \n",
    "        avg_reward = sum(total_rewards) / num_games\n",
    "        print(f\"\\nAverage Reward over {num_games} games: {avg_reward:.2f}\")"
   ]
  },
  {
   "cell_type": "code",
   "execution_count": 177,
   "metadata": {},
   "outputs": [
    {
     "data": {
      "image/png": "[encoded data removed]",
      "text/plain": [
       "<Figure size 1500x600 with 2 Axes>"
      ]
     },
     "metadata": {},
     "output_type": "display_data"
    },
    {
     "name": "stdout",
     "output_type": "stream",
     "text": [
      "Episode: 0, Step: 0\n",
      "Action: 1\n",
      "Reward: 10\n",
      "Current State:\n",
      "[[5 0 0 0 0 5]\n",
      " [0 0 0 0 0 0]\n",
      " [0 0 0 0 0 0]\n",
      " [0 0 0 0 0 0]\n",
      " [0 0 0 0 0 0]\n",
      " [6 0 1 0 0 6]]\n",
      "Next State:\n",
      "[[5 0 0 0 0 5]\n",
      " [0 0 0 0 0 0]\n",
      " [0 0 0 0 0 0]\n",
      " [0 0 0 0 0 0]\n",
      " [0 0 0 0 0 0]\n",
      " [6 0 1 0 0 6]]\n",
      "Done: False\n",
      "-------------------\n"
     ]
    },
    {
     "data": {
      "text/plain": [
       "<Figure size 640x480 with 0 Axes>"
      ]
     },
     "metadata": {},
     "output_type": "display_data"
    },
    {
     "name": "stdout",
     "output_type": "stream",
     "text": [
      "Episode: 0, Step: 1\n",
      "Action: 5\n",
      "Reward: 5\n",
      "Current State:\n",
      "[[5 0 0 0 0 5]\n",
      " [0 0 4 0 0 0]\n",
      " [0 0 0 0 0 0]\n",
      " [0 0 0 0 0 0]\n",
      " [0 0 0 0 0 0]\n",
      " [6 0 1 0 0 6]]\n",
      "Next State:\n",
      "[[5 0 0 0 0 5]\n",
      " [0 0 4 0 0 0]\n",
      " [0 0 0 0 0 0]\n",
      " [0 0 0 0 0 0]\n",
      " [0 0 0 0 0 0]\n",
      " [6 0 1 0 0 6]]\n",
      "Done: False\n",
      "-------------------\n"
     ]
    },
    {
     "data": {
      "text/plain": [
       "<Figure size 640x480 with 0 Axes>"
      ]
     },
     "metadata": {},
     "output_type": "display_data"
    },
    {
     "name": "stdout",
     "output_type": "stream",
     "text": [
      "Episode: 0, Step: 2\n",
      "Action: 2\n",
      "Reward: 10\n",
      "Current State:\n",
      "[[5 0 0 0 0 5]\n",
      " [0 0 4 0 0 0]\n",
      " [0 0 0 0 0 0]\n",
      " [0 0 0 0 0 0]\n",
      " [0 0 0 0 0 0]\n",
      " [6 0 1 1 0 6]]\n",
      "Next State:\n",
      "[[5 0 0 0 0 5]\n",
      " [0 0 4 0 0 0]\n",
      " [0 0 0 0 0 0]\n",
      " [0 0 0 0 0 0]\n",
      " [0 0 0 0 0 0]\n",
      " [6 0 1 1 0 6]]\n",
      "Done: False\n",
      "-------------------\n"
     ]
    },
    {
     "data": {
      "text/plain": [
       "<Figure size 640x480 with 0 Axes>"
      ]
     },
     "metadata": {},
     "output_type": "display_data"
    },
    {
     "name": "stdout",
     "output_type": "stream",
     "text": [
      "Episode: 0, Step: 3\n",
      "Action: 1\n",
      "Reward: 5\n",
      "Current State:\n",
      "[[5 0 0 0 0 5]\n",
      " [0 0 4 0 0 0]\n",
      " [0 0 0 0 0 0]\n",
      " [0 0 0 0 0 0]\n",
      " [0 0 0 0 0 0]\n",
      " [6 0 4 1 0 6]]\n",
      "Next State:\n",
      "[[5 0 0 0 0 5]\n",
      " [0 0 4 0 0 0]\n",
      " [0 0 0 0 0 0]\n",
      " [0 0 0 0 0 0]\n",
      " [0 0 0 0 0 0]\n",
      " [6 0 4 1 0 6]]\n",
      "Done: False\n",
      "-------------------\n"
     ]
    },
    {
     "data": {
      "text/plain": [
       "<Figure size 640x480 with 0 Axes>"
      ]
     },
     "metadata": {},
     "output_type": "display_data"
    },
    {
     "name": "stdout",
     "output_type": "stream",
     "text": [
      "Episode: 0, Step: 4\n",
      "Action: 7\n",
      "Reward: 5\n",
      "Current State:\n",
      "[[5 0 0 0 0 5]\n",
      " [0 0 4 0 0 0]\n",
      " [0 0 0 0 0 0]\n",
      " [0 0 0 0 0 0]\n",
      " [0 0 0 0 2 0]\n",
      " [6 0 4 1 0 6]]\n",
      "Next State:\n",
      "[[5 0 0 0 0 5]\n",
      " [0 0 4 0 0 0]\n",
      " [0 0 0 0 0 0]\n",
      " [0 0 0 0 0 0]\n",
      " [0 0 0 0 2 0]\n",
      " [6 0 4 1 0 6]]\n",
      "Done: False\n",
      "-------------------\n"
     ]
    },
    {
     "data": {
      "text/plain": [
       "<Figure size 640x480 with 0 Axes>"
      ]
     },
     "metadata": {},
     "output_type": "display_data"
    },
    {
     "name": "stdout",
     "output_type": "stream",
     "text": [
      "Episode: 0, Step: 5\n",
      "Action: 1\n",
      "Reward: 10\n",
      "Current State:\n",
      "[[5 0 0 0 0 5]\n",
      " [0 0 4 0 0 0]\n",
      " [0 0 0 0 0 0]\n",
      " [0 0 0 0 0 0]\n",
      " [0 0 0 0 2 0]\n",
      " [6 0 3 1 0 6]]\n",
      "Next State:\n",
      "[[5 0 0 0 0 5]\n",
      " [0 0 4 0 0 0]\n",
      " [0 0 0 0 0 0]\n",
      " [0 0 0 0 0 0]\n",
      " [0 0 0 0 2 0]\n",
      " [6 0 3 1 0 6]]\n",
      "Done: False\n",
      "-------------------\n"
     ]
    },
    {
     "data": {
      "text/plain": [
       "<Figure size 640x480 with 0 Axes>"
      ]
     },
     "metadata": {},
     "output_type": "display_data"
    },
    {
     "name": "stdout",
     "output_type": "stream",
     "text": [
      "Episode: 0, Step: 6\n",
      "Action: 1\n",
      "Reward: 5\n",
      "Current State:\n",
      "[[5 0 0 0 0 5]\n",
      " [0 0 4 0 0 0]\n",
      " [0 0 0 0 0 0]\n",
      " [0 0 0 0 0 0]\n",
      " [0 0 0 0 2 0]\n",
      " [6 0 2 1 0 6]]\n",
      "Next State:\n",
      "[[5 0 0 0 0 5]\n",
      " [0 0 4 0 0 0]\n",
      " [0 0 0 0 0 0]\n",
      " [0 0 0 0 0 0]\n",
      " [0 0 0 0 2 0]\n",
      " [6 0 2 1 0 6]]\n",
      "Done: False\n",
      "-------------------\n"
     ]
    },
    {
     "data": {
      "text/plain": [
       "<Figure size 640x480 with 0 Axes>"
      ]
     },
     "metadata": {},
     "output_type": "display_data"
    },
    {
     "name": "stdout",
     "output_type": "stream",
     "text": [
      "Episode: 0, Step: 7\n",
      "Action: 0\n",
      "Reward: 10\n",
      "Current State:\n",
      "[[5 0 0 0 0 5]\n",
      " [0 0 4 0 0 0]\n",
      " [0 0 0 0 0 0]\n",
      " [0 0 0 0 0 0]\n",
      " [0 0 0 0 2 0]\n",
      " [6 3 2 1 0 6]]\n",
      "Next State:\n",
      "[[5 0 0 0 0 5]\n",
      " [0 0 4 0 0 0]\n",
      " [0 0 0 0 0 0]\n",
      " [0 0 0 0 0 0]\n",
      " [0 0 0 0 2 0]\n",
      " [6 3 2 1 0 6]]\n",
      "Done: False\n",
      "-------------------\n"
     ]
    },
    {
     "data": {
      "text/plain": [
       "<Figure size 640x480 with 0 Axes>"
      ]
     },
     "metadata": {},
     "output_type": "display_data"
    },
    {
     "name": "stdout",
     "output_type": "stream",
     "text": [
      "Episode: 0, Step: 8\n",
      "Action: 0\n",
      "Reward: 5\n",
      "Current State:\n",
      "[[5 0 0 0 0 5]\n",
      " [0 0 4 0 0 0]\n",
      " [0 0 0 0 0 0]\n",
      " [0 0 0 0 0 0]\n",
      " [0 0 0 0 2 0]\n",
      " [6 2 2 1 0 6]]\n",
      "Next State:\n",
      "[[5 0 0 0 0 5]\n",
      " [0 0 4 0 0 0]\n",
      " [0 0 0 0 0 0]\n",
      " [0 0 0 0 0 0]\n",
      " [0 0 0 0 2 0]\n",
      " [6 2 2 1 0 6]]\n",
      "Done: False\n",
      "-------------------\n"
     ]
    },
    {
     "data": {
      "text/plain": [
       "<Figure size 640x480 with 0 Axes>"
      ]
     },
     "metadata": {},
     "output_type": "display_data"
    },
    {
     "name": "stdout",
     "output_type": "stream",
     "text": [
      "Episode: 0, Step: 9\n",
      "Action: 2\n",
      "Reward: 10\n",
      "Current State:\n",
      "[[5 0 0 0 0 5]\n",
      " [0 0 4 0 0 0]\n",
      " [0 0 0 0 0 0]\n",
      " [0 0 0 0 0 0]\n",
      " [0 0 0 0 2 0]\n",
      " [6 2 2 3 0 6]]\n",
      "Next State:\n",
      "[[5 0 0 0 0 5]\n",
      " [0 0 4 0 0 0]\n",
      " [0 0 0 0 0 0]\n",
      " [0 0 0 0 0 0]\n",
      " [0 0 0 0 2 0]\n",
      " [6 2 2 3 0 6]]\n",
      "Done: False\n",
      "-------------------\n"
     ]
    },
    {
     "data": {
      "text/plain": [
       "<Figure size 640x480 with 0 Axes>"
      ]
     },
     "metadata": {},
     "output_type": "display_data"
    },
    {
     "name": "stdout",
     "output_type": "stream",
     "text": [
      "Episode: 0, Step: 10\n",
      "Action: 2\n",
      "Reward: 5\n",
      "Current State:\n",
      "[[5 0 0 0 0 5]\n",
      " [0 0 4 0 0 0]\n",
      " [0 0 0 0 0 0]\n",
      " [0 0 0 0 0 0]\n",
      " [0 0 0 0 2 0]\n",
      " [6 2 2 2 0 6]]\n",
      "Next State:\n",
      "[[5 0 0 0 0 5]\n",
      " [0 0 4 0 0 0]\n",
      " [0 0 0 0 0 0]\n",
      " [0 0 0 0 0 0]\n",
      " [0 0 0 0 2 0]\n",
      " [6 2 2 2 0 6]]\n",
      "Done: False\n",
      "-------------------\n"
     ]
    },
    {
     "data": {
      "text/plain": [
       "<Figure size 640x480 with 0 Axes>"
      ]
     },
     "metadata": {},
     "output_type": "display_data"
    },
    {
     "name": "stdout",
     "output_type": "stream",
     "text": [
      "Episode: 0, Step: 11\n",
      "Action: 1\n",
      "Reward: 10\n",
      "Current State:\n",
      "[[5 0 0 0 0 5]\n",
      " [0 0 4 0 0 0]\n",
      " [0 0 0 0 0 0]\n",
      " [0 0 0 0 0 0]\n",
      " [0 0 0 0 2 0]\n",
      " [6 2 3 2 0 6]]\n",
      "Next State:\n",
      "[[5 0 0 0 0 5]\n",
      " [0 0 4 0 0 0]\n",
      " [0 0 0 0 0 0]\n",
      " [0 0 0 0 0 0]\n",
      " [0 0 0 0 2 0]\n",
      " [6 2 3 2 0 6]]\n",
      "Done: False\n",
      "-------------------\n"
     ]
    },
    {
     "data": {
      "text/plain": [
       "<Figure size 640x480 with 0 Axes>"
      ]
     },
     "metadata": {},
     "output_type": "display_data"
    },
    {
     "name": "stdout",
     "output_type": "stream",
     "text": [
      "Episode: 0, Step: 12\n",
      "Action: 0\n",
      "Reward: 5\n",
      "Current State:\n",
      "[[5 0 0 0 0 5]\n",
      " [0 0 4 0 0 0]\n",
      " [0 0 0 0 0 0]\n",
      " [0 0 0 0 0 0]\n",
      " [0 0 0 0 2 0]\n",
      " [6 2 3 2 0 6]]\n",
      "Next State:\n",
      "[[5 0 0 0 0 5]\n",
      " [0 0 4 0 0 0]\n",
      " [0 0 0 0 0 0]\n",
      " [0 0 0 0 0 0]\n",
      " [0 0 0 0 2 0]\n",
      " [6 2 3 2 0 6]]\n",
      "Done: False\n",
      "-------------------\n"
     ]
    },
    {
     "data": {
      "text/plain": [
       "<Figure size 640x480 with 0 Axes>"
      ]
     },
     "metadata": {},
     "output_type": "display_data"
    },
    {
     "name": "stdout",
     "output_type": "stream",
     "text": [
      "Episode: 0, Step: 13\n",
      "Action: 1\n",
      "Reward: 10\n",
      "Current State:\n",
      "[[5 0 0 0 0 5]\n",
      " [0 0 4 0 0 0]\n",
      " [0 0 0 0 0 0]\n",
      " [0 0 0 0 0 0]\n",
      " [0 0 0 0 2 0]\n",
      " [6 2 3 2 0 6]]\n",
      "Next State:\n",
      "[[5 0 0 0 0 5]\n",
      " [0 0 4 0 0 0]\n",
      " [0 0 0 0 0 0]\n",
      " [0 0 0 0 0 0]\n",
      " [0 0 0 0 2 0]\n",
      " [6 2 3 2 0 6]]\n",
      "Done: False\n",
      "-------------------\n"
     ]
    },
    {
     "data": {
      "text/plain": [
       "<Figure size 640x480 with 0 Axes>"
      ]
     },
     "metadata": {},
     "output_type": "display_data"
    },
    {
     "name": "stdout",
     "output_type": "stream",
     "text": [
      "Episode: 0, Step: 14\n",
      "Action: 0\n",
      "Reward: 5\n",
      "Current State:\n",
      "[[5 0 0 0 0 5]\n",
      " [0 0 4 0 0 0]\n",
      " [0 0 0 0 0 0]\n",
      " [0 0 0 0 0 0]\n",
      " [0 0 0 0 2 0]\n",
      " [6 2 3 2 0 6]]\n",
      "Next State:\n",
      "[[5 0 0 0 0 5]\n",
      " [0 0 4 0 0 0]\n",
      " [0 0 0 0 0 0]\n",
      " [0 0 0 0 0 0]\n",
      " [0 0 0 0 2 0]\n",
      " [6 2 3 2 0 6]]\n",
      "Done: False\n",
      "-------------------\n"
     ]
    },
    {
     "data": {
      "text/plain": [
       "<Figure size 640x480 with 0 Axes>"
      ]
     },
     "metadata": {},
     "output_type": "display_data"
    },
    {
     "name": "stdout",
     "output_type": "stream",
     "text": [
      "Episode: 0, Step: 15\n",
      "Action: 7\n",
      "Reward: 10\n",
      "Current State:\n",
      "[[5 0 0 0 0 5]\n",
      " [0 0 4 0 3 0]\n",
      " [0 0 0 0 0 0]\n",
      " [0 0 0 0 0 0]\n",
      " [0 0 0 0 2 0]\n",
      " [6 2 3 2 0 6]]\n",
      "Next State:\n",
      "[[5 0 0 0 0 5]\n",
      " [0 0 4 0 3 0]\n",
      " [0 0 0 0 0 0]\n",
      " [0 0 0 0 0 0]\n",
      " [0 0 0 0 2 0]\n",
      " [6 2 3 2 0 6]]\n",
      "Done: False\n",
      "-------------------\n"
     ]
    },
    {
     "data": {
      "text/plain": [
       "<Figure size 640x480 with 0 Axes>"
      ]
     },
     "metadata": {},
     "output_type": "display_data"
    },
    {
     "name": "stdout",
     "output_type": "stream",
     "text": [
      "Episode: 0, Step: 16\n",
      "Action: 74\n",
      "Reward: -50\n",
      "Current State:\n",
      "[[5 0 0 0 0 5]\n",
      " [0 0 4 0 3 0]\n",
      " [0 0 0 0 0 0]\n",
      " [0 0 0 0 0 0]\n",
      " [0 0 0 0 2 0]\n",
      " [6 2 0 2 0 6]]\n",
      "Next State:\n",
      "[[5 0 0 0 0 5]\n",
      " [0 0 4 0 3 0]\n",
      " [0 0 0 0 0 0]\n",
      " [0 0 0 0 0 0]\n",
      " [0 0 0 0 2 0]\n",
      " [6 2 0 2 0 6]]\n",
      "Done: True\n",
      "-------------------\n",
      "Episode 0 finished. Total Reward: 70, Steps: 17, Epsilon: 0.9950\n"
     ]
    },
    {
     "data": {
      "text/plain": [
       "<Figure size 640x480 with 0 Axes>"
      ]
     },
     "metadata": {},
     "output_type": "display_data"
    },
    {
     "name": "stdout",
     "output_type": "stream",
     "text": [
      "Episode: 1, Step: 0\n",
      "Action: 5\n",
      "Reward: 10\n",
      "Current State:\n",
      "[[5 0 0 0 0 5]\n",
      " [0 0 0 0 0 0]\n",
      " [0 0 0 0 0 0]\n",
      " [0 0 0 0 0 0]\n",
      " [0 0 1 0 0 0]\n",
      " [6 0 0 0 0 6]]\n",
      "Next State:\n",
      "[[5 0 0 0 0 5]\n",
      " [0 0 0 0 0 0]\n",
      " [0 0 0 0 0 0]\n",
      " [0 0 0 0 0 0]\n",
      " [0 0 1 0 0 0]\n",
      " [6 0 0 0 0 6]]\n",
      "Done: False\n",
      "-------------------\n"
     ]
    },
    {
     "data": {
      "text/plain": [
       "<Figure size 640x480 with 0 Axes>"
      ]
     },
     "metadata": {},
     "output_type": "display_data"
    },
    {
     "name": "stdout",
     "output_type": "stream",
     "text": [
      "Episode: 1, Step: 1\n",
      "Action: 2\n",
      "Reward: 5\n",
      "Current State:\n",
      "[[5 0 0 0 0 5]\n",
      " [0 0 0 0 0 0]\n",
      " [0 0 0 0 0 0]\n",
      " [0 0 0 0 0 0]\n",
      " [0 0 1 0 0 0]\n",
      " [6 0 0 4 0 6]]\n",
      "Next State:\n",
      "[[5 0 0 0 0 5]\n",
      " [0 0 0 0 0 0]\n",
      " [0 0 0 0 0 0]\n",
      " [0 0 0 0 0 0]\n",
      " [0 0 1 0 0 0]\n",
      " [6 0 0 4 0 6]]\n",
      "Done: False\n",
      "-------------------\n"
     ]
    },
    {
     "data": {
      "text/plain": [
       "<Figure size 640x480 with 0 Axes>"
      ]
     },
     "metadata": {},
     "output_type": "display_data"
    },
    {
     "name": "stdout",
     "output_type": "stream",
     "text": [
      "Episode: 1, Step: 2\n",
      "Action: 5\n",
      "Reward: 10\n",
      "Current State:\n",
      "[[5 0 0 0 0 5]\n",
      " [0 0 0 0 0 0]\n",
      " [0 0 0 0 0 0]\n",
      " [0 0 0 0 0 0]\n",
      " [0 0 1 0 0 0]\n",
      " [6 0 0 4 0 6]]\n",
      "Next State:\n",
      "[[5 0 0 0 0 5]\n",
      " [0 0 0 0 0 0]\n",
      " [0 0 0 0 0 0]\n",
      " [0 0 0 0 0 0]\n",
      " [0 0 1 0 0 0]\n",
      " [6 0 0 4 0 6]]\n",
      "Done: False\n",
      "-------------------\n"
     ]
    },
    {
     "data": {
      "text/plain": [
       "<Figure size 640x480 with 0 Axes>"
      ]
     },
     "metadata": {},
     "output_type": "display_data"
    },
    {
     "name": "stdout",
     "output_type": "stream",
     "text": [
      "Episode: 1, Step: 3\n",
      "Action: 1\n",
      "Reward: 5\n",
      "Current State:\n",
      "[[5 0 0 0 0 5]\n",
      " [0 0 0 0 0 0]\n",
      " [0 0 0 0 0 0]\n",
      " [0 0 0 0 0 0]\n",
      " [0 0 1 0 0 0]\n",
      " [6 0 4 4 0 6]]\n",
      "Next State:\n",
      "[[5 0 0 0 0 5]\n",
      " [0 0 0 0 0 0]\n",
      " [0 0 0 0 0 0]\n",
      " [0 0 0 0 0 0]\n",
      " [0 0 1 0 0 0]\n",
      " [6 0 4 4 0 6]]\n",
      "Done: False\n",
      "-------------------\n"
     ]
    },
    {
     "data": {
      "text/plain": [
       "<Figure size 640x480 with 0 Axes>"
      ]
     },
     "metadata": {},
     "output_type": "display_data"
    },
    {
     "name": "stdout",
     "output_type": "stream",
     "text": [
      "Episode: 1, Step: 4\n",
      "Action: 7\n",
      "Reward: 5\n",
      "Current State:\n",
      "[[5 0 0 0 0 5]\n",
      " [0 0 0 0 0 0]\n",
      " [0 0 0 0 0 0]\n",
      " [0 0 0 0 0 0]\n",
      " [0 0 1 0 2 0]\n",
      " [6 0 4 4 0 6]]\n",
      "Next State:\n",
      "[[5 0 0 0 0 5]\n",
      " [0 0 0 0 0 0]\n",
      " [0 0 0 0 0 0]\n",
      " [0 0 0 0 0 0]\n",
      " [0 0 1 0 2 0]\n",
      " [6 0 4 4 0 6]]\n",
      "Done: False\n",
      "-------------------\n"
     ]
    },
    {
     "data": {
      "text/plain": [
       "<Figure size 640x480 with 0 Axes>"
      ]
     },
     "metadata": {},
     "output_type": "display_data"
    },
    {
     "name": "stdout",
     "output_type": "stream",
     "text": [
      "Episode: 1, Step: 5\n",
      "Action: 7\n",
      "Reward: 10\n",
      "Current State:\n",
      "[[5 0 0 0 0 5]\n",
      " [0 0 0 0 3 0]\n",
      " [0 0 0 0 0 0]\n",
      " [0 0 0 0 0 0]\n",
      " [0 0 1 0 2 0]\n",
      " [6 0 4 4 0 6]]\n",
      "Next State:\n",
      "[[5 0 0 0 0 5]\n",
      " [0 0 0 0 3 0]\n",
      " [0 0 0 0 0 0]\n",
      " [0 0 0 0 0 0]\n",
      " [0 0 1 0 2 0]\n",
      " [6 0 4 4 0 6]]\n",
      "Done: False\n",
      "-------------------\n"
     ]
    },
    {
     "data": {
      "text/plain": [
       "<Figure size 640x480 with 0 Axes>"
      ]
     },
     "metadata": {},
     "output_type": "display_data"
    },
    {
     "name": "stdout",
     "output_type": "stream",
     "text": [
      "Episode: 1, Step: 6\n",
      "Action: 4\n",
      "Reward: 5\n",
      "Current State:\n",
      "[[5 0 0 0 0 5]\n",
      " [0 0 0 0 3 0]\n",
      " [0 0 0 0 0 0]\n",
      " [0 0 0 0 0 0]\n",
      " [0 2 1 0 2 0]\n",
      " [6 0 4 4 0 6]]\n",
      "Next State:\n",
      "[[5 0 0 0 0 5]\n",
      " [0 0 0 0 3 0]\n",
      " [0 0 0 0 0 0]\n",
      " [0 0 0 0 0 0]\n",
      " [0 2 1 0 2 0]\n",
      " [6 0 4 4 0 6]]\n",
      "Done: False\n",
      "-------------------\n"
     ]
    },
    {
     "data": {
      "text/plain": [
       "<Figure size 640x480 with 0 Axes>"
      ]
     },
     "metadata": {},
     "output_type": "display_data"
    },
    {
     "name": "stdout",
     "output_type": "stream",
     "text": [
      "Episode: 1, Step: 7\n",
      "Action: 1\n",
      "Reward: 10\n",
      "Current State:\n",
      "[[5 0 0 0 0 5]\n",
      " [0 0 0 0 3 0]\n",
      " [0 0 0 0 0 0]\n",
      " [0 0 0 0 0 0]\n",
      " [0 2 1 0 2 0]\n",
      " [6 0 3 4 0 6]]\n",
      "Next State:\n",
      "[[5 0 0 0 0 5]\n",
      " [0 0 0 0 3 0]\n",
      " [0 0 0 0 0 0]\n",
      " [0 0 0 0 0 0]\n",
      " [0 2 1 0 2 0]\n",
      " [6 0 3 4 0 6]]\n",
      "Done: False\n",
      "-------------------\n"
     ]
    },
    {
     "data": {
      "text/plain": [
       "<Figure size 640x480 with 0 Axes>"
      ]
     },
     "metadata": {},
     "output_type": "display_data"
    },
    {
     "name": "stdout",
     "output_type": "stream",
     "text": [
      "Episode: 1, Step: 8\n",
      "Action: 4\n",
      "Reward: 5\n",
      "Current State:\n",
      "[[5 0 0 0 0 5]\n",
      " [0 0 0 0 3 0]\n",
      " [0 0 0 0 0 0]\n",
      " [0 0 0 0 0 0]\n",
      " [0 2 1 0 2 0]\n",
      " [6 0 3 4 0 6]]\n",
      "Next State:\n",
      "[[5 0 0 0 0 5]\n",
      " [0 0 0 0 3 0]\n",
      " [0 0 0 0 0 0]\n",
      " [0 0 0 0 0 0]\n",
      " [0 2 1 0 2 0]\n",
      " [6 0 3 4 0 6]]\n",
      "Done: False\n",
      "-------------------\n"
     ]
    },
    {
     "data": {
      "text/plain": [
       "<Figure size 640x480 with 0 Axes>"
      ]
     },
     "metadata": {},
     "output_type": "display_data"
    },
    {
     "name": "stdout",
     "output_type": "stream",
     "text": [
      "Episode: 1, Step: 9\n",
      "Action: 6\n",
      "Reward: 10\n",
      "Current State:\n",
      "[[5 0 0 0 0 5]\n",
      " [0 0 0 3 3 0]\n",
      " [0 0 0 0 0 0]\n",
      " [0 0 0 0 0 0]\n",
      " [0 2 1 0 2 0]\n",
      " [6 0 3 4 0 6]]\n",
      "Next State:\n",
      "[[5 0 0 0 0 5]\n",
      " [0 0 0 3 3 0]\n",
      " [0 0 0 0 0 0]\n",
      " [0 0 0 0 0 0]\n",
      " [0 2 1 0 2 0]\n",
      " [6 0 3 4 0 6]]\n",
      "Done: False\n",
      "-------------------\n"
     ]
    },
    {
     "data": {
      "text/plain": [
       "<Figure size 640x480 with 0 Axes>"
      ]
     },
     "metadata": {},
     "output_type": "display_data"
    },
    {
     "name": "stdout",
     "output_type": "stream",
     "text": [
      "Episode: 1, Step: 10\n",
      "Action: 7\n",
      "Reward: 5\n",
      "Current State:\n",
      "[[5 0 0 0 0 5]\n",
      " [0 0 0 3 3 0]\n",
      " [0 0 0 0 0 0]\n",
      " [0 0 0 0 0 0]\n",
      " [0 2 1 0 2 0]\n",
      " [6 0 3 4 0 6]]\n",
      "Next State:\n",
      "[[5 0 0 0 0 5]\n",
      " [0 0 0 3 3 0]\n",
      " [0 0 0 0 0 0]\n",
      " [0 0 0 0 0 0]\n",
      " [0 2 1 0 2 0]\n",
      " [6 0 3 4 0 6]]\n",
      "Done: False\n",
      "-------------------\n"
     ]
    },
    {
     "data": {
      "text/plain": [
       "<Figure size 640x480 with 0 Axes>"
      ]
     },
     "metadata": {},
     "output_type": "display_data"
    },
    {
     "name": "stdout",
     "output_type": "stream",
     "text": [
      "Episode: 1, Step: 11\n",
      "Action: 1\n",
      "Reward: 5\n",
      "Current State:\n",
      "[[5 0 0 0 0 5]\n",
      " [0 0 0 3 3 0]\n",
      " [0 0 0 0 0 0]\n",
      " [0 0 0 0 0 0]\n",
      " [0 2 1 0 2 0]\n",
      " [6 0 4 4 0 6]]\n",
      "Next State:\n",
      "[[5 0 0 0 0 5]\n",
      " [0 0 0 3 3 0]\n",
      " [0 0 0 0 0 0]\n",
      " [0 0 0 0 0 0]\n",
      " [0 2 1 0 2 0]\n",
      " [6 0 4 4 0 6]]\n",
      "Done: False\n",
      "-------------------\n"
     ]
    },
    {
     "data": {
      "text/plain": [
       "<Figure size 640x480 with 0 Axes>"
      ]
     },
     "metadata": {},
     "output_type": "display_data"
    },
    {
     "name": "stdout",
     "output_type": "stream",
     "text": [
      "Episode: 1, Step: 12\n",
      "Action: 4\n",
      "Reward: 5\n",
      "Current State:\n",
      "[[5 0 0 0 0 5]\n",
      " [0 0 0 3 3 0]\n",
      " [0 0 0 0 0 0]\n",
      " [0 0 0 0 0 0]\n",
      " [0 2 1 0 2 0]\n",
      " [6 0 4 4 0 6]]\n",
      "Next State:\n",
      "[[5 0 0 0 0 5]\n",
      " [0 0 0 3 3 0]\n",
      " [0 0 0 0 0 0]\n",
      " [0 0 0 0 0 0]\n",
      " [0 2 1 0 2 0]\n",
      " [6 0 4 4 0 6]]\n",
      "Done: False\n",
      "-------------------\n"
     ]
    },
    {
     "data": {
      "text/plain": [
       "<Figure size 640x480 with 0 Axes>"
      ]
     },
     "metadata": {},
     "output_type": "display_data"
    },
    {
     "name": "stdout",
     "output_type": "stream",
     "text": [
      "Episode: 1, Step: 13\n",
      "Action: 3\n",
      "Reward: 10\n",
      "Current State:\n",
      "[[5 0 0 0 0 5]\n",
      " [0 0 0 3 3 0]\n",
      " [0 0 0 0 0 0]\n",
      " [0 0 0 0 0 0]\n",
      " [0 2 1 0 2 0]\n",
      " [6 0 4 4 3 6]]\n",
      "Next State:\n",
      "[[5 0 0 0 0 5]\n",
      " [0 0 0 3 3 0]\n",
      " [0 0 0 0 0 0]\n",
      " [0 0 0 0 0 0]\n",
      " [0 2 1 0 2 0]\n",
      " [6 0 4 4 3 6]]\n",
      "Done: False\n",
      "-------------------\n"
     ]
    },
    {
     "data": {
      "text/plain": [
       "<Figure size 640x480 with 0 Axes>"
      ]
     },
     "metadata": {},
     "output_type": "display_data"
    },
    {
     "name": "stdout",
     "output_type": "stream",
     "text": [
      "Episode: 1, Step: 14\n",
      "Action: 4\n",
      "Reward: 5\n",
      "Current State:\n",
      "[[5 0 0 0 0 5]\n",
      " [0 0 0 3 3 0]\n",
      " [0 0 0 0 0 0]\n",
      " [0 0 0 0 0 0]\n",
      " [0 2 1 0 2 0]\n",
      " [6 0 4 4 3 6]]\n",
      "Next State:\n",
      "[[5 0 0 0 0 5]\n",
      " [0 0 0 3 3 0]\n",
      " [0 0 0 0 0 0]\n",
      " [0 0 0 0 0 0]\n",
      " [0 2 1 0 2 0]\n",
      " [6 0 4 4 3 6]]\n",
      "Done: False\n",
      "-------------------\n"
     ]
    },
    {
     "data": {
      "text/plain": [
       "<Figure size 640x480 with 0 Axes>"
      ]
     },
     "metadata": {},
     "output_type": "display_data"
    },
    {
     "name": "stdout",
     "output_type": "stream",
     "text": [
      "Episode: 1, Step: 15\n",
      "Action: 4\n",
      "Reward: 10\n",
      "Current State:\n",
      "[[5 0 0 0 0 5]\n",
      " [0 3 0 3 3 0]\n",
      " [0 0 0 0 0 0]\n",
      " [0 0 0 0 0 0]\n",
      " [0 2 1 0 2 0]\n",
      " [6 0 4 4 3 6]]\n",
      "Next State:\n",
      "[[5 0 0 0 0 5]\n",
      " [0 3 0 3 3 0]\n",
      " [0 0 0 0 0 0]\n",
      " [0 0 0 0 0 0]\n",
      " [0 2 1 0 2 0]\n",
      " [6 0 4 4 3 6]]\n",
      "Done: False\n",
      "-------------------\n"
     ]
    },
    {
     "data": {
      "text/plain": [
       "<Figure size 640x480 with 0 Axes>"
      ]
     },
     "metadata": {},
     "output_type": "display_data"
    },
    {
     "name": "stdout",
     "output_type": "stream",
     "text": [
      "Episode: 1, Step: 16\n",
      "Action: 70\n",
      "Reward: -1\n",
      "Current State:\n",
      "[[5 0 0 0 0 5]\n",
      " [0 3 0 3 3 0]\n",
      " [0 0 0 0 0 0]\n",
      " [0 2 0 0 0 0]\n",
      " [0 0 1 0 2 0]\n",
      " [6 0 4 4 3 6]]\n",
      "Next State:\n",
      "[[5 0 0 0 0 5]\n",
      " [0 3 0 3 3 0]\n",
      " [0 0 0 0 0 0]\n",
      " [0 2 0 0 0 0]\n",
      " [0 0 1 0 2 0]\n",
      " [6 0 4 4 3 6]]\n",
      "Done: False\n",
      "-------------------\n"
     ]
    },
    {
     "data": {
      "text/plain": [
       "<Figure size 640x480 with 0 Axes>"
      ]
     },
     "metadata": {},
     "output_type": "display_data"
    },
    {
     "name": "stdout",
     "output_type": "stream",
     "text": [
      "Episode: 1, Step: 17\n",
      "Action: 5\n",
      "Reward: -1\n",
      "Current State:\n",
      "[[5 0 0 0 0 5]\n",
      " [0 3 0 3 3 0]\n",
      " [0 0 0 0 0 0]\n",
      " [0 2 0 0 0 0]\n",
      " [0 0 1 4 2 0]\n",
      " [6 0 4 0 3 6]]\n",
      "Next State:\n",
      "[[5 0 0 0 0 5]\n",
      " [0 3 0 3 3 0]\n",
      " [0 0 0 0 0 0]\n",
      " [0 2 0 0 0 0]\n",
      " [0 0 1 4 2 0]\n",
      " [6 0 4 0 3 6]]\n",
      "Done: False\n",
      "-------------------\n"
     ]
    },
    {
     "data": {
      "text/plain": [
       "<Figure size 640x480 with 0 Axes>"
      ]
     },
     "metadata": {},
     "output_type": "display_data"
    },
    {
     "name": "stdout",
     "output_type": "stream",
     "text": [
      "Episode: 1, Step: 18\n",
      "Action: 24\n",
      "Reward: -50\n",
      "Current State:\n",
      "[[5 0 0 0 0 5]\n",
      " [0 3 0 3 3 0]\n",
      " [0 0 0 0 0 0]\n",
      " [0 2 0 0 0 0]\n",
      " [0 0 1 4 2 0]\n",
      " [6 0 4 0 0 6]]\n",
      "Next State:\n",
      "[[5 0 0 0 0 5]\n",
      " [0 3 0 3 3 0]\n",
      " [0 0 0 0 0 0]\n",
      " [0 2 0 0 0 0]\n",
      " [0 0 1 4 2 0]\n",
      " [6 0 4 0 0 6]]\n",
      "Done: False\n",
      "-------------------\n"
     ]
    },
    {
     "data": {
      "text/plain": [
       "<Figure size 640x480 with 0 Axes>"
      ]
     },
     "metadata": {},
     "output_type": "display_data"
    },
    {
     "name": "stdout",
     "output_type": "stream",
     "text": [
      "Episode: 1, Step: 19\n",
      "Action: 71\n",
      "Reward: -1\n",
      "Current State:\n",
      "[[5 0 0 0 0 5]\n",
      " [0 0 0 3 3 0]\n",
      " [0 3 0 0 0 0]\n",
      " [0 2 0 0 0 0]\n",
      " [0 0 1 4 2 0]\n",
      " [6 0 4 0 0 6]]\n",
      "Next State:\n",
      "[[5 0 0 0 0 5]\n",
      " [0 0 0 3 3 0]\n",
      " [0 3 0 0 0 0]\n",
      " [0 2 0 0 0 0]\n",
      " [0 0 1 4 2 0]\n",
      " [6 0 4 0 0 6]]\n",
      "Done: False\n",
      "-------------------\n"
     ]
    },
    {
     "data": {
      "text/plain": [
       "<Figure size 640x480 with 0 Axes>"
      ]
     },
     "metadata": {},
     "output_type": "display_data"
    },
    {
     "name": "stdout",
     "output_type": "stream",
     "text": [
      "Episode: 1, Step: 20\n",
      "Action: 20\n",
      "Reward: -1\n",
      "Current State:\n",
      "[[5 0 0 0 0 5]\n",
      " [0 0 0 3 3 0]\n",
      " [0 3 0 0 0 0]\n",
      " [0 2 0 0 2 0]\n",
      " [0 0 1 4 0 0]\n",
      " [6 0 4 0 0 6]]\n",
      "Next State:\n",
      "[[5 0 0 0 0 5]\n",
      " [0 0 0 3 3 0]\n",
      " [0 3 0 0 0 0]\n",
      " [0 2 0 0 2 0]\n",
      " [0 0 1 4 0 0]\n",
      " [6 0 4 0 0 6]]\n",
      "Done: False\n",
      "-------------------\n"
     ]
    },
    {
     "data": {
      "text/plain": [
       "<Figure size 640x480 with 0 Axes>"
      ]
     },
     "metadata": {},
     "output_type": "display_data"
    },
    {
     "name": "stdout",
     "output_type": "stream",
     "text": [
      "Episode: 1, Step: 21\n",
      "Action: 47\n",
      "Reward: -1\n",
      "Current State:\n",
      "[[5 0 0 0 0 5]\n",
      " [0 0 3 0 3 0]\n",
      " [0 3 0 0 0 0]\n",
      " [0 2 0 0 2 0]\n",
      " [0 0 1 4 0 0]\n",
      " [6 0 4 0 0 6]]\n",
      "Next State:\n",
      "[[5 0 0 0 0 5]\n",
      " [0 0 3 0 3 0]\n",
      " [0 3 0 0 0 0]\n",
      " [0 2 0 0 2 0]\n",
      " [0 0 1 4 0 0]\n",
      " [6 0 4 0 0 6]]\n",
      "Done: False\n",
      "-------------------\n"
     ]
    },
    {
     "data": {
      "text/plain": [
       "<Figure size 640x480 with 0 Axes>"
      ]
     },
     "metadata": {},
     "output_type": "display_data"
    },
    {
     "name": "stdout",
     "output_type": "stream",
     "text": [
      "Episode: 1, Step: 22\n",
      "Action: 12\n",
      "Reward: -1\n",
      "Current State:\n",
      "[[5 0 0 0 0 5]\n",
      " [0 0 3 0 3 0]\n",
      " [0 3 0 0 0 0]\n",
      " [0 2 0 0 2 0]\n",
      " [0 1 0 4 0 0]\n",
      " [6 0 4 0 0 6]]\n",
      "Next State:\n",
      "[[5 0 0 0 0 5]\n",
      " [0 0 3 0 3 0]\n",
      " [0 3 0 0 0 0]\n",
      " [0 2 0 0 2 0]\n",
      " [0 1 0 4 0 0]\n",
      " [6 0 4 0 0 6]]\n",
      "Done: False\n",
      "-------------------\n"
     ]
    },
    {
     "data": {
      "text/plain": [
       "<Figure size 640x480 with 0 Axes>"
      ]
     },
     "metadata": {},
     "output_type": "display_data"
    },
    {
     "name": "stdout",
     "output_type": "stream",
     "text": [
      "Episode: 1, Step: 23\n",
      "Action: 26\n",
      "Reward: -1\n",
      "Current State:\n",
      "[[5 0 0 0 0 5]\n",
      " [0 0 3 0 0 0]\n",
      " [0 3 0 0 3 0]\n",
      " [0 2 0 0 2 0]\n",
      " [0 1 0 4 0 0]\n",
      " [6 0 4 0 0 6]]\n",
      "Next State:\n",
      "[[5 0 0 0 0 5]\n",
      " [0 0 3 0 0 0]\n",
      " [0 3 0 0 3 0]\n",
      " [0 2 0 0 2 0]\n",
      " [0 1 0 4 0 0]\n",
      " [6 0 4 0 0 6]]\n",
      "Done: False\n",
      "-------------------\n"
     ]
    },
    {
     "data": {
      "text/plain": [
       "<Figure size 640x480 with 0 Axes>"
      ]
     },
     "metadata": {},
     "output_type": "display_data"
    },
    {
     "name": "stdout",
     "output_type": "stream",
     "text": [
      "Episode: 1, Step: 24\n",
      "Action: 33\n",
      "Reward: -1\n",
      "Current State:\n",
      "[[5 0 0 0 0 5]\n",
      " [0 0 3 0 0 0]\n",
      " [0 3 0 0 3 0]\n",
      " [0 2 0 0 2 0]\n",
      " [0 0 1 4 0 0]\n",
      " [6 0 4 0 0 6]]\n",
      "Next State:\n",
      "[[5 0 0 0 0 5]\n",
      " [0 0 3 0 0 0]\n",
      " [0 3 0 0 3 0]\n",
      " [0 2 0 0 2 0]\n",
      " [0 0 1 4 0 0]\n",
      " [6 0 4 0 0 6]]\n",
      "Done: False\n",
      "-------------------\n"
     ]
    },
    {
     "data": {
      "text/plain": [
       "<Figure size 640x480 with 0 Axes>"
      ]
     },
     "metadata": {},
     "output_type": "display_data"
    },
    {
     "name": "stdout",
     "output_type": "stream",
     "text": [
      "Episode: 1, Step: 25\n",
      "Action: 73\n",
      "Reward: -1\n",
      "Current State:\n",
      "[[5 0 0 0 0 5]\n",
      " [0 0 3 0 0 0]\n",
      " [0 0 3 0 3 0]\n",
      " [0 2 0 0 2 0]\n",
      " [0 0 1 4 0 0]\n",
      " [6 0 4 0 0 6]]\n",
      "Next State:\n",
      "[[5 0 0 0 0 5]\n",
      " [0 0 3 0 0 0]\n",
      " [0 0 3 0 3 0]\n",
      " [0 2 0 0 2 0]\n",
      " [0 0 1 4 0 0]\n",
      " [6 0 4 0 0 6]]\n",
      "Done: False\n",
      "-------------------\n"
     ]
    },
    {
     "data": {
      "text/plain": [
       "<Figure size 640x480 with 0 Axes>"
      ]
     },
     "metadata": {},
     "output_type": "display_data"
    },
    {
     "name": "stdout",
     "output_type": "stream",
     "text": [
      "Episode: 1, Step: 26\n",
      "Action: 4\n",
      "Reward: 50\n",
      "Current State:\n",
      "[[5 0 0 0 0 5]\n",
      " [0 0 3 0 0 0]\n",
      " [0 0 3 0 3 0]\n",
      " [0 2 0 0 2 0]\n",
      " [0 0 1 4 0 0]\n",
      " [6 0 0 0 0 6]]\n",
      "Next State:\n",
      "[[5 0 0 0 0 5]\n",
      " [0 0 3 0 0 0]\n",
      " [0 0 3 0 3 0]\n",
      " [0 2 0 0 2 0]\n",
      " [0 0 1 4 0 0]\n",
      " [6 0 0 0 0 6]]\n",
      "Done: False\n",
      "-------------------\n"
     ]
    },
    {
     "data": {
      "text/plain": [
       "<Figure size 640x480 with 0 Axes>"
      ]
     },
     "metadata": {},
     "output_type": "display_data"
    },
    {
     "name": "stdout",
     "output_type": "stream",
     "text": [
      "Episode: 1, Step: 27\n",
      "Action: 6\n",
      "Reward: -1\n",
      "Current State:\n",
      "[[5 0 0 0 0 5]\n",
      " [0 0 3 0 0 0]\n",
      " [0 0 3 0 3 0]\n",
      " [0 2 0 0 2 0]\n",
      " [0 0 1 0 0 0]\n",
      " [6 0 0 4 0 6]]\n",
      "Next State:\n",
      "[[5 0 0 0 0 5]\n",
      " [0 0 3 0 0 0]\n",
      " [0 0 3 0 3 0]\n",
      " [0 2 0 0 2 0]\n",
      " [0 0 1 0 0 0]\n",
      " [6 0 0 4 0 6]]\n",
      "Done: False\n",
      "-------------------\n"
     ]
    },
    {
     "data": {
      "text/plain": [
       "<Figure size 640x480 with 0 Axes>"
      ]
     },
     "metadata": {},
     "output_type": "display_data"
    },
    {
     "name": "stdout",
     "output_type": "stream",
     "text": [
      "Episode: 1, Step: 28\n",
      "Action: 2\n",
      "Reward: -1\n",
      "Current State:\n",
      "[[5 0 0 0 0 5]\n",
      " [0 0 3 0 0 0]\n",
      " [0 0 3 0 3 0]\n",
      " [0 2 0 0 2 0]\n",
      " [0 1 0 0 0 0]\n",
      " [6 0 0 4 0 6]]\n",
      "Next State:\n",
      "[[5 0 0 0 0 5]\n",
      " [0 0 3 0 0 0]\n",
      " [0 0 3 0 3 0]\n",
      " [0 2 0 0 2 0]\n",
      " [0 1 0 0 0 0]\n",
      " [6 0 0 4 0 6]]\n",
      "Done: False\n",
      "-------------------\n"
     ]
    },
    {
     "data": {
      "text/plain": [
       "<Figure size 640x480 with 0 Axes>"
      ]
     },
     "metadata": {},
     "output_type": "display_data"
    },
    {
     "name": "stdout",
     "output_type": "stream",
     "text": [
      "Episode: 1, Step: 29\n",
      "Action: 66\n",
      "Reward: -1\n",
      "Current State:\n",
      "[[5 0 0 0 0 5]\n",
      " [0 0 3 0 0 0]\n",
      " [0 0 0 0 3 0]\n",
      " [0 2 3 0 2 0]\n",
      " [0 1 0 0 0 0]\n",
      " [6 0 0 4 0 6]]\n",
      "Next State:\n",
      "[[5 0 0 0 0 5]\n",
      " [0 0 3 0 0 0]\n",
      " [0 0 0 0 3 0]\n",
      " [0 2 3 0 2 0]\n",
      " [0 1 0 0 0 0]\n",
      " [6 0 0 4 0 6]]\n",
      "Done: False\n",
      "-------------------\n"
     ]
    },
    {
     "data": {
      "text/plain": [
       "<Figure size 640x480 with 0 Axes>"
      ]
     },
     "metadata": {},
     "output_type": "display_data"
    },
    {
     "name": "stdout",
     "output_type": "stream",
     "text": [
      "Episode: 1, Step: 30\n",
      "Action: 60\n",
      "Reward: -1\n",
      "Current State:\n",
      "[[5 0 0 0 0 5]\n",
      " [0 0 3 0 0 0]\n",
      " [0 2 0 0 3 0]\n",
      " [0 0 3 0 2 0]\n",
      " [0 1 0 0 0 0]\n",
      " [6 0 0 4 0 6]]\n",
      "Next State:\n",
      "[[5 0 0 0 0 5]\n",
      " [0 0 3 0 0 0]\n",
      " [0 2 0 0 3 0]\n",
      " [0 0 3 0 2 0]\n",
      " [0 1 0 0 0 0]\n",
      " [6 0 0 4 0 6]]\n",
      "Done: False\n",
      "-------------------\n"
     ]
    },
    {
     "data": {
      "text/plain": [
       "<Figure size 640x480 with 0 Axes>"
      ]
     },
     "metadata": {},
     "output_type": "display_data"
    },
    {
     "name": "stdout",
     "output_type": "stream",
     "text": [
      "Episode: 1, Step: 31\n",
      "Action: 22\n",
      "Reward: -1\n",
      "Current State:\n",
      "[[5 0 0 0 0 5]\n",
      " [0 0 3 0 0 0]\n",
      " [0 2 0 3 0 0]\n",
      " [0 0 3 0 2 0]\n",
      " [0 1 0 0 0 0]\n",
      " [6 0 0 4 0 6]]\n",
      "Next State:\n",
      "[[5 0 0 0 0 5]\n",
      " [0 0 3 0 0 0]\n",
      " [0 2 0 3 0 0]\n",
      " [0 0 3 0 2 0]\n",
      " [0 1 0 0 0 0]\n",
      " [6 0 0 4 0 6]]\n",
      "Done: False\n",
      "-------------------\n"
     ]
    },
    {
     "data": {
      "text/plain": [
       "<Figure size 640x480 with 0 Axes>"
      ]
     },
     "metadata": {},
     "output_type": "display_data"
    },
    {
     "name": "stdout",
     "output_type": "stream",
     "text": [
      "Episode: 1, Step: 32\n",
      "Action: 35\n",
      "Reward: -1\n",
      "Current State:\n",
      "[[5 0 0 0 0 5]\n",
      " [0 0 3 0 0 0]\n",
      " [0 2 0 3 0 0]\n",
      " [0 1 3 0 2 0]\n",
      " [0 0 0 0 0 0]\n",
      " [6 0 0 4 0 6]]\n",
      "Next State:\n",
      "[[5 0 0 0 0 5]\n",
      " [0 0 3 0 0 0]\n",
      " [0 2 0 3 0 0]\n",
      " [0 1 3 0 2 0]\n",
      " [0 0 0 0 0 0]\n",
      " [6 0 0 4 0 6]]\n",
      "Done: False\n",
      "-------------------\n"
     ]
    },
    {
     "data": {
      "text/plain": [
       "<Figure size 640x480 with 0 Axes>"
      ]
     },
     "metadata": {},
     "output_type": "display_data"
    },
    {
     "name": "stdout",
     "output_type": "stream",
     "text": [
      "Episode: 1, Step: 33\n",
      "Action: 40\n",
      "Reward: -1\n",
      "Current State:\n",
      "[[5 0 3 0 0 5]\n",
      " [0 0 0 0 0 0]\n",
      " [0 2 0 3 0 0]\n",
      " [0 1 3 0 2 0]\n",
      " [0 0 0 0 0 0]\n",
      " [6 0 0 4 0 6]]\n",
      "Next State:\n",
      "[[5 0 3 0 0 5]\n",
      " [0 0 0 0 0 0]\n",
      " [0 2 0 3 0 0]\n",
      " [0 1 3 0 2 0]\n",
      " [0 0 0 0 0 0]\n",
      " [6 0 0 4 0 6]]\n",
      "Done: False\n",
      "-------------------\n"
     ]
    },
    {
     "data": {
      "text/plain": [
       "<Figure size 640x480 with 0 Axes>"
      ]
     },
     "metadata": {},
     "output_type": "display_data"
    },
    {
     "name": "stdout",
     "output_type": "stream",
     "text": [
      "Episode: 1, Step: 34\n",
      "Action: 18\n",
      "Reward: -1\n",
      "Current State:\n",
      "[[5 0 3 0 0 5]\n",
      " [0 0 0 0 0 0]\n",
      " [0 2 0 3 0 0]\n",
      " [0 1 3 0 0 2]\n",
      " [0 0 0 0 0 0]\n",
      " [6 0 0 4 0 6]]\n",
      "Next State:\n",
      "[[5 0 3 0 0 5]\n",
      " [0 0 0 0 0 0]\n",
      " [0 2 0 3 0 0]\n",
      " [0 1 3 0 0 2]\n",
      " [0 0 0 0 0 0]\n",
      " [6 0 0 4 0 6]]\n",
      "Done: False\n",
      "-------------------\n"
     ]
    },
    {
     "data": {
      "text/plain": [
       "<Figure size 640x480 with 0 Axes>"
      ]
     },
     "metadata": {},
     "output_type": "display_data"
    },
    {
     "name": "stdout",
     "output_type": "stream",
     "text": [
      "Episode: 1, Step: 35\n",
      "Action: 22\n",
      "Reward: -1\n",
      "Current State:\n",
      "[[5 0 3 0 0 5]\n",
      " [0 0 0 0 0 0]\n",
      " [0 2 3 0 0 0]\n",
      " [0 1 3 0 0 2]\n",
      " [0 0 0 0 0 0]\n",
      " [6 0 0 4 0 6]]\n",
      "Next State:\n",
      "[[5 0 3 0 0 5]\n",
      " [0 0 0 0 0 0]\n",
      " [0 2 3 0 0 0]\n",
      " [0 1 3 0 0 2]\n",
      " [0 0 0 0 0 0]\n",
      " [6 0 0 4 0 6]]\n",
      "Done: False\n",
      "-------------------\n"
     ]
    },
    {
     "data": {
      "text/plain": [
       "<Figure size 640x480 with 0 Axes>"
      ]
     },
     "metadata": {},
     "output_type": "display_data"
    },
    {
     "name": "stdout",
     "output_type": "stream",
     "text": [
      "Episode: 1, Step: 36\n",
      "Action: 39\n",
      "Reward: -50\n",
      "Current State:\n",
      "[[5 0 3 0 0 5]\n",
      " [0 0 0 0 0 0]\n",
      " [0 2 3 0 0 0]\n",
      " [0 1 0 0 0 2]\n",
      " [0 0 0 0 0 0]\n",
      " [6 0 0 4 0 6]]\n",
      "Next State:\n",
      "[[5 0 3 0 0 5]\n",
      " [0 0 0 0 0 0]\n",
      " [0 2 3 0 0 0]\n",
      " [0 1 0 0 0 2]\n",
      " [0 0 0 0 0 0]\n",
      " [6 0 0 4 0 6]]\n",
      "Done: False\n",
      "-------------------\n"
     ]
    },
    {
     "data": {
      "text/plain": [
       "<Figure size 640x480 with 0 Axes>"
      ]
     },
     "metadata": {},
     "output_type": "display_data"
    },
    {
     "name": "stdout",
     "output_type": "stream",
     "text": [
      "Episode: 1, Step: 37\n",
      "Action: 5\n",
      "Reward: -1\n",
      "Current State:\n",
      "[[5 0 3 0 0 5]\n",
      " [0 0 0 0 0 0]\n",
      " [0 2 3 0 0 0]\n",
      " [0 1 0 0 0 2]\n",
      " [0 0 0 4 0 0]\n",
      " [6 0 0 0 0 6]]\n",
      "Next State:\n",
      "[[5 0 3 0 0 5]\n",
      " [0 0 0 0 0 0]\n",
      " [0 2 3 0 0 0]\n",
      " [0 1 0 0 0 2]\n",
      " [0 0 0 4 0 0]\n",
      " [6 0 0 0 0 6]]\n",
      "Done: False\n",
      "-------------------\n"
     ]
    },
    {
     "data": {
      "text/plain": [
       "<Figure size 640x480 with 0 Axes>"
      ]
     },
     "metadata": {},
     "output_type": "display_data"
    },
    {
     "name": "stdout",
     "output_type": "stream",
     "text": [
      "Episode: 1, Step: 38\n",
      "Action: 36\n",
      "Reward: -1\n",
      "Current State:\n",
      "[[5 0 3 0 0 5]\n",
      " [0 0 0 0 0 0]\n",
      " [0 2 3 0 0 0]\n",
      " [0 0 0 0 0 2]\n",
      " [0 1 0 4 0 0]\n",
      " [6 0 0 0 0 6]]\n",
      "Next State:\n",
      "[[5 0 3 0 0 5]\n",
      " [0 0 0 0 0 0]\n",
      " [0 2 3 0 0 0]\n",
      " [0 0 0 0 0 2]\n",
      " [0 1 0 4 0 0]\n",
      " [6 0 0 0 0 6]]\n",
      "Done: False\n",
      "-------------------\n"
     ]
    },
    {
     "data": {
      "text/plain": [
       "<Figure size 640x480 with 0 Axes>"
      ]
     },
     "metadata": {},
     "output_type": "display_data"
    },
    {
     "name": "stdout",
     "output_type": "stream",
     "text": [
      "Episode: 1, Step: 39\n",
      "Action: 41\n",
      "Reward: -1\n",
      "Current State:\n",
      "[[5 0 0 0 0 5]\n",
      " [0 0 3 0 0 0]\n",
      " [0 2 3 0 0 0]\n",
      " [0 0 0 0 0 2]\n",
      " [0 1 0 4 0 0]\n",
      " [6 0 0 0 0 6]]\n",
      "Next State:\n",
      "[[5 0 0 0 0 5]\n",
      " [0 0 3 0 0 0]\n",
      " [0 2 3 0 0 0]\n",
      " [0 0 0 0 0 2]\n",
      " [0 1 0 4 0 0]\n",
      " [6 0 0 0 0 6]]\n",
      "Done: False\n",
      "-------------------\n"
     ]
    },
    {
     "data": {
      "text/plain": [
       "<Figure size 640x480 with 0 Axes>"
      ]
     },
     "metadata": {},
     "output_type": "display_data"
    },
    {
     "name": "stdout",
     "output_type": "stream",
     "text": [
      "Episode: 1, Step: 40\n",
      "Action: 11\n",
      "Reward: -1\n",
      "Current State:\n",
      "[[5 0 0 0 0 5]\n",
      " [0 0 3 0 0 0]\n",
      " [0 2 3 0 0 0]\n",
      " [0 0 0 0 0 2]\n",
      " [0 0 0 4 0 0]\n",
      " [6 1 0 0 0 6]]\n",
      "Next State:\n",
      "[[5 0 0 0 0 5]\n",
      " [0 0 3 0 0 0]\n",
      " [0 2 3 0 0 0]\n",
      " [0 0 0 0 0 2]\n",
      " [0 0 0 4 0 0]\n",
      " [6 1 0 0 0 6]]\n",
      "Done: False\n",
      "-------------------\n"
     ]
    },
    {
     "data": {
      "text/plain": [
       "<Figure size 640x480 with 0 Axes>"
      ]
     },
     "metadata": {},
     "output_type": "display_data"
    },
    {
     "name": "stdout",
     "output_type": "stream",
     "text": [
      "Episode: 1, Step: 41\n",
      "Action: 40\n",
      "Reward: -1\n",
      "Current State:\n",
      "[[5 0 3 0 0 5]\n",
      " [0 0 0 0 0 0]\n",
      " [0 2 3 0 0 0]\n",
      " [0 0 0 0 0 2]\n",
      " [0 0 0 4 0 0]\n",
      " [6 1 0 0 0 6]]\n",
      "Next State:\n",
      "[[5 0 3 0 0 5]\n",
      " [0 0 0 0 0 0]\n",
      " [0 2 3 0 0 0]\n",
      " [0 0 0 0 0 2]\n",
      " [0 0 0 4 0 0]\n",
      " [6 1 0 0 0 6]]\n",
      "Done: False\n",
      "-------------------\n"
     ]
    },
    {
     "data": {
      "text/plain": [
       "<Figure size 640x480 with 0 Axes>"
      ]
     },
     "metadata": {},
     "output_type": "display_data"
    },
    {
     "name": "stdout",
     "output_type": "stream",
     "text": [
      "Episode: 1, Step: 42\n",
      "Action: 64\n",
      "Reward: -50\n",
      "Current State:\n",
      "[[5 0 3 0 0 5]\n",
      " [0 0 0 0 0 0]\n",
      " [0 2 0 0 0 0]\n",
      " [0 0 0 0 0 2]\n",
      " [0 0 0 4 0 0]\n",
      " [6 1 0 0 0 6]]\n",
      "Next State:\n",
      "[[5 0 3 0 0 5]\n",
      " [0 0 0 0 0 0]\n",
      " [0 2 0 0 0 0]\n",
      " [0 0 0 0 0 2]\n",
      " [0 0 0 4 0 0]\n",
      " [6 1 0 0 0 6]]\n",
      "Done: False\n",
      "-------------------\n"
     ]
    },
    {
     "data": {
      "text/plain": [
       "<Figure size 640x480 with 0 Axes>"
      ]
     },
     "metadata": {},
     "output_type": "display_data"
    },
    {
     "name": "stdout",
     "output_type": "stream",
     "text": [
      "Episode: 1, Step: 43\n",
      "Action: 38\n",
      "Reward: -1\n",
      "Current State:\n",
      "[[5 0 0 3 0 5]\n",
      " [0 0 0 0 0 0]\n",
      " [0 2 0 0 0 0]\n",
      " [0 0 0 0 0 2]\n",
      " [0 0 0 4 0 0]\n",
      " [6 1 0 0 0 6]]\n",
      "Next State:\n",
      "[[5 0 0 3 0 5]\n",
      " [0 0 0 0 0 0]\n",
      " [0 2 0 0 0 0]\n",
      " [0 0 0 0 0 2]\n",
      " [0 0 0 4 0 0]\n",
      " [6 1 0 0 0 6]]\n",
      "Done: False\n",
      "-------------------\n"
     ]
    },
    {
     "data": {
      "text/plain": [
       "<Figure size 640x480 with 0 Axes>"
      ]
     },
     "metadata": {},
     "output_type": "display_data"
    },
    {
     "name": "stdout",
     "output_type": "stream",
     "text": [
      "Episode: 1, Step: 44\n",
      "Action: 17\n",
      "Reward: -1\n",
      "Current State:\n",
      "[[5 0 0 3 0 5]\n",
      " [0 0 0 0 0 0]\n",
      " [0 2 0 0 0 0]\n",
      " [0 0 0 0 2 0]\n",
      " [0 0 0 4 0 0]\n",
      " [6 1 0 0 0 6]]\n",
      "Next State:\n",
      "[[5 0 0 3 0 5]\n",
      " [0 0 0 0 0 0]\n",
      " [0 2 0 0 0 0]\n",
      " [0 0 0 0 2 0]\n",
      " [0 0 0 4 0 0]\n",
      " [6 1 0 0 0 6]]\n",
      "Done: False\n",
      "-------------------\n"
     ]
    },
    {
     "data": {
      "text/plain": [
       "<Figure size 640x480 with 0 Axes>"
      ]
     },
     "metadata": {},
     "output_type": "display_data"
    },
    {
     "name": "stdout",
     "output_type": "stream",
     "text": [
      "Episode: 1, Step: 45\n",
      "Action: 36\n",
      "Reward: -1\n",
      "Current State:\n",
      "[[5 0 0 0 0 5]\n",
      " [0 0 0 3 0 0]\n",
      " [0 2 0 0 0 0]\n",
      " [0 0 0 0 2 0]\n",
      " [0 0 0 4 0 0]\n",
      " [6 1 0 0 0 6]]\n",
      "Next State:\n",
      "[[5 0 0 0 0 5]\n",
      " [0 0 0 3 0 0]\n",
      " [0 2 0 0 0 0]\n",
      " [0 0 0 0 2 0]\n",
      " [0 0 0 4 0 0]\n",
      " [6 1 0 0 0 6]]\n",
      "Done: False\n",
      "-------------------\n"
     ]
    },
    {
     "data": {
      "text/plain": [
       "<Figure size 640x480 with 0 Axes>"
      ]
     },
     "metadata": {},
     "output_type": "display_data"
    },
    {
     "name": "stdout",
     "output_type": "stream",
     "text": [
      "Episode: 1, Step: 46\n",
      "Action: 57\n",
      "Reward: -1\n",
      "Current State:\n",
      "[[5 0 0 0 0 5]\n",
      " [0 0 0 3 0 0]\n",
      " [2 0 0 0 0 0]\n",
      " [0 0 0 0 2 0]\n",
      " [0 0 0 4 0 0]\n",
      " [6 1 0 0 0 6]]\n",
      "Next State:\n",
      "[[5 0 0 0 0 5]\n",
      " [0 0 0 3 0 0]\n",
      " [2 0 0 0 0 0]\n",
      " [0 0 0 0 2 0]\n",
      " [0 0 0 4 0 0]\n",
      " [6 1 0 0 0 6]]\n",
      "Done: False\n",
      "-------------------\n"
     ]
    },
    {
     "data": {
      "text/plain": [
       "<Figure size 640x480 with 0 Axes>"
      ]
     },
     "metadata": {},
     "output_type": "display_data"
    },
    {
     "name": "stdout",
     "output_type": "stream",
     "text": [
      "Episode: 1, Step: 47\n",
      "Action: 35\n",
      "Reward: -1\n",
      "Current State:\n",
      "[[5 0 0 3 0 5]\n",
      " [0 0 0 0 0 0]\n",
      " [2 0 0 0 0 0]\n",
      " [0 0 0 0 2 0]\n",
      " [0 0 0 4 0 0]\n",
      " [6 1 0 0 0 6]]\n",
      "Next State:\n",
      "[[5 0 0 3 0 5]\n",
      " [0 0 0 0 0 0]\n",
      " [2 0 0 0 0 0]\n",
      " [0 0 0 0 2 0]\n",
      " [0 0 0 4 0 0]\n",
      " [6 1 0 0 0 6]]\n",
      "Done: False\n",
      "-------------------\n"
     ]
    },
    {
     "ename": "RuntimeError",
     "evalue": "index 70 is out of bounds for dimension 1 with size 13",
     "output_type": "error",
     "traceback": [
      "\u001b[1;31m---------------------------------------------------------------------------\u001b[0m",
      "\u001b[1;31mRuntimeError\u001b[0m                              Traceback (most recent call last)",
      "Cell \u001b[1;32mIn[177], line 6\u001b[0m\n\u001b[0;32m      4\u001b[0m \u001b[38;5;66;03m# Train the agent\u001b[39;00m\n\u001b[0;32m      5\u001b[0m num_episodes \u001b[38;5;241m=\u001b[39m \u001b[38;5;241m4000\u001b[39m\n\u001b[1;32m----> 6\u001b[0m \u001b[43magent\u001b[49m\u001b[38;5;241;43m.\u001b[39;49m\u001b[43mtrain\u001b[49m\u001b[43m(\u001b[49m\u001b[43mepisodes\u001b[49m\u001b[38;5;241;43m=\u001b[39;49m\u001b[43mnum_episodes\u001b[49m\u001b[43m)\u001b[49m\n\u001b[0;32m      8\u001b[0m \u001b[38;5;66;03m# Visualize the training results\u001b[39;00m\n\u001b[0;32m      9\u001b[0m agent\u001b[38;5;241m.\u001b[39mvisualize_training()\n",
      "Cell \u001b[1;32mIn[176], line 112\u001b[0m, in \u001b[0;36mGhostsAgent.train\u001b[1;34m(self, episodes)\u001b[0m\n\u001b[0;32m    109\u001b[0m     steps \u001b[38;5;241m+\u001b[39m\u001b[38;5;241m=\u001b[39m \u001b[38;5;241m1\u001b[39m\n\u001b[0;32m    111\u001b[0m     \u001b[38;5;28;01mif\u001b[39;00m \u001b[38;5;28mlen\u001b[39m(\u001b[38;5;28mself\u001b[39m\u001b[38;5;241m.\u001b[39mmemory) \u001b[38;5;241m>\u001b[39m \u001b[38;5;28mself\u001b[39m\u001b[38;5;241m.\u001b[39mbatch_size:\n\u001b[1;32m--> 112\u001b[0m         \u001b[38;5;28;43mself\u001b[39;49m\u001b[38;5;241;43m.\u001b[39;49m\u001b[43mreplay\u001b[49m\u001b[43m(\u001b[49m\u001b[43m)\u001b[49m\n\u001b[0;32m    114\u001b[0m \u001b[38;5;28mself\u001b[39m\u001b[38;5;241m.\u001b[39mepisode_rewards\u001b[38;5;241m.\u001b[39mappend(total_reward)\n\u001b[0;32m    115\u001b[0m \u001b[38;5;28mself\u001b[39m\u001b[38;5;241m.\u001b[39mepsilon \u001b[38;5;241m=\u001b[39m \u001b[38;5;28mmax\u001b[39m(\u001b[38;5;28mself\u001b[39m\u001b[38;5;241m.\u001b[39mepsilon_min, \u001b[38;5;28mself\u001b[39m\u001b[38;5;241m.\u001b[39mepsilon \u001b[38;5;241m*\u001b[39m \u001b[38;5;28mself\u001b[39m\u001b[38;5;241m.\u001b[39mepsilon_decay)\n",
      "Cell \u001b[1;32mIn[176], line 54\u001b[0m, in \u001b[0;36mGhostsAgent.replay\u001b[1;34m(self)\u001b[0m\n\u001b[0;32m     51\u001b[0m next_states \u001b[38;5;241m=\u001b[39m torch\u001b[38;5;241m.\u001b[39mFloatTensor(np\u001b[38;5;241m.\u001b[39marray(next_states))\u001b[38;5;241m.\u001b[39mto(\u001b[38;5;28mself\u001b[39m\u001b[38;5;241m.\u001b[39mdevice)\n\u001b[0;32m     52\u001b[0m dones \u001b[38;5;241m=\u001b[39m torch\u001b[38;5;241m.\u001b[39mFloatTensor(dones)\u001b[38;5;241m.\u001b[39mto(\u001b[38;5;28mself\u001b[39m\u001b[38;5;241m.\u001b[39mdevice)\n\u001b[1;32m---> 54\u001b[0m current_q_values \u001b[38;5;241m=\u001b[39m \u001b[38;5;28;43mself\u001b[39;49m\u001b[38;5;241;43m.\u001b[39;49m\u001b[43mmodel\u001b[49m\u001b[43m(\u001b[49m\u001b[43mstates\u001b[49m\u001b[43m)\u001b[49m\u001b[38;5;241;43m.\u001b[39;49m\u001b[43mgather\u001b[49m\u001b[43m(\u001b[49m\u001b[38;5;241;43m1\u001b[39;49m\u001b[43m,\u001b[49m\u001b[43m \u001b[49m\u001b[43mactions\u001b[49m\u001b[38;5;241;43m.\u001b[39;49m\u001b[43munsqueeze\u001b[49m\u001b[43m(\u001b[49m\u001b[38;5;241;43m1\u001b[39;49m\u001b[43m)\u001b[49m\u001b[43m)\u001b[49m\n\u001b[0;32m     55\u001b[0m next_q_values \u001b[38;5;241m=\u001b[39m \u001b[38;5;28mself\u001b[39m\u001b[38;5;241m.\u001b[39mtarget_model(next_states)\u001b[38;5;241m.\u001b[39mmax(\u001b[38;5;241m1\u001b[39m)[\u001b[38;5;241m0\u001b[39m]\u001b[38;5;241m.\u001b[39mdetach()\n\u001b[0;32m     56\u001b[0m target_q_values \u001b[38;5;241m=\u001b[39m rewards \u001b[38;5;241m+\u001b[39m (\u001b[38;5;241m1\u001b[39m \u001b[38;5;241m-\u001b[39m dones) \u001b[38;5;241m*\u001b[39m \u001b[38;5;28mself\u001b[39m\u001b[38;5;241m.\u001b[39mgamma \u001b[38;5;241m*\u001b[39m next_q_values\n",
      "\u001b[1;31mRuntimeError\u001b[0m: index 70 is out of bounds for dimension 1 with size 13"
     ]
    }
   ],
   "source": [
    "env = GhostsEnv()\n",
    "agent = GhostsAgent(env)\n",
    "\n",
    "# Train the agent\n",
    "num_episodes = 4000\n",
    "agent.train(episodes=num_episodes)\n",
    "\n",
    "# Visualize the training results\n",
    "agent.visualize_training()\n",
    "\n",
    "# Evaluate the agent\n",
    "eval_episodes = 100\n",
    "agent.evaluate(episodes=eval_episodes)\n"
   ]
  },
  {
   "cell_type": "code",
   "execution_count": 83,
   "metadata": {},
   "outputs": [
    {
     "name": "stdout",
     "output_type": "stream",
     "text": [
      "\n",
      "Game 1\n",
      ". . . . . .\n",
      ". . . . . .\n",
      ". . . . . .\n",
      ". . . . . .\n",
      ". . . . . .\n",
      ". . . . . .\n",
      "\n",
      "Action: 0, Reward: 10\n",
      ". G . . . .\n",
      ". . . . . .\n",
      ". . . . . .\n",
      ". . . . . .\n",
      ". . . . . .\n",
      ". . . . . .\n",
      "\n",
      "Action: 3, Reward: 10\n",
      ". G . . G .\n",
      ". . . . . .\n",
      ". . . . . .\n",
      ". . . . . .\n",
      ". . . . . .\n",
      ". . . . . .\n",
      "\n",
      "Action: 1, Reward: 10\n",
      ". G G . G .\n",
      ". . . . . .\n",
      ". . . . . .\n",
      ". . . . . .\n",
      ". . . . . .\n",
      ". . . . . .\n",
      "\n",
      "Action: 2, Reward: 10\n",
      ". G G G G .\n",
      ". . . . . .\n",
      ". . . . . .\n",
      ". . . . . .\n",
      ". . . . . .\n",
      ". . . . . .\n",
      "\n",
      "Action: 5, Reward: 5\n",
      ". G G G G .\n",
      ". . . . . .\n",
      ". . . . . .\n",
      ". . . . . .\n",
      ". . . . . .\n",
      ". . B . . .\n",
      "\n",
      "Action: 4, Reward: 5\n",
      ". G G G G .\n",
      ". . . . . .\n",
      ". . . . . .\n",
      ". . . . . .\n",
      ". . . . . .\n",
      ". B B . . .\n",
      "\n",
      "Action: 7, Reward: 5\n",
      ". G G G G .\n",
      ". . . . . .\n",
      ". . . . . .\n",
      ". . . . . .\n",
      ". . . . . .\n",
      ". B B . B .\n",
      "\n",
      "Action: 6, Reward: 19\n",
      ". G G G G .\n",
      ". . . . . .\n",
      ". . . . . .\n",
      ". . . . . .\n",
      ". . . . . .\n",
      ". B B B B .\n",
      "\n",
      "Action: 2, Reward: 99\n",
      "G . G G G .\n",
      ". . . . . .\n",
      ". . . . . .\n",
      ". . . . . .\n",
      ". . . . . .\n",
      ". B B B B .\n",
      "\n",
      "Game Over! Total Reward: 173\n",
      "\n",
      "Game 2\n",
      ". . . . . .\n",
      ". . . . . .\n",
      ". . . . . .\n",
      ". . . . . .\n",
      ". . . . . .\n",
      ". . . . . .\n",
      "\n",
      "Action: 0, Reward: 10\n",
      ". G . . . .\n",
      ". . . . . .\n",
      ". . . . . .\n",
      ". . . . . .\n",
      ". . . . . .\n",
      ". . . . . .\n",
      "\n",
      "Action: 3, Reward: 10\n",
      ". G . . G .\n",
      ". . . . . .\n",
      ". . . . . .\n",
      ". . . . . .\n",
      ". . . . . .\n",
      ". . . . . .\n",
      "\n",
      "Action: 1, Reward: 10\n",
      ". G G . G .\n",
      ". . . . . .\n",
      ". . . . . .\n",
      ". . . . . .\n",
      ". . . . . .\n",
      ". . . . . .\n",
      "\n",
      "Action: 2, Reward: 10\n",
      ". G G G G .\n",
      ". . . . . .\n",
      ". . . . . .\n",
      ". . . . . .\n",
      ". . . . . .\n",
      ". . . . . .\n",
      "\n",
      "Action: 5, Reward: 5\n",
      ". G G G G .\n",
      ". . . . . .\n",
      ". . . . . .\n",
      ". . . . . .\n",
      ". . . . . .\n",
      ". . B . . .\n",
      "\n",
      "Action: 4, Reward: 5\n",
      ". G G G G .\n",
      ". . . . . .\n",
      ". . . . . .\n",
      ". . . . . .\n",
      ". . . . . .\n",
      ". B B . . .\n",
      "\n",
      "Action: 7, Reward: 5\n",
      ". G G G G .\n",
      ". . . . . .\n",
      ". . . . . .\n",
      ". . . . . .\n",
      ". . . . . .\n",
      ". B B . B .\n",
      "\n",
      "Action: 6, Reward: 19\n",
      ". G G G G .\n",
      ". . . . . .\n",
      ". . . . . .\n",
      ". . . . . .\n",
      ". . . . . .\n",
      ". B B B B .\n",
      "\n",
      "Action: 2, Reward: 99\n",
      "G . G G G .\n",
      ". . . . . .\n",
      ". . . . . .\n",
      ". . . . . .\n",
      ". . . . . .\n",
      ". B B B B .\n",
      "\n",
      "Game Over! Total Reward: 173\n",
      "\n",
      "Game 3\n",
      ". . . . . .\n",
      ". . . . . .\n",
      ". . . . . .\n",
      ". . . . . .\n",
      ". . . . . .\n",
      ". . . . . .\n",
      "\n",
      "Action: 0, Reward: 10\n",
      ". G . . . .\n",
      ". . . . . .\n",
      ". . . . . .\n",
      ". . . . . .\n",
      ". . . . . .\n",
      ". . . . . .\n",
      "\n",
      "Action: 3, Reward: 10\n",
      ". G . . G .\n",
      ". . . . . .\n",
      ". . . . . .\n",
      ". . . . . .\n",
      ". . . . . .\n",
      ". . . . . .\n",
      "\n",
      "Action: 1, Reward: 10\n",
      ". G G . G .\n",
      ". . . . . .\n",
      ". . . . . .\n",
      ". . . . . .\n",
      ". . . . . .\n",
      ". . . . . .\n",
      "\n",
      "Action: 2, Reward: 10\n",
      ". G G G G .\n",
      ". . . . . .\n",
      ". . . . . .\n",
      ". . . . . .\n",
      ". . . . . .\n",
      ". . . . . .\n",
      "\n",
      "Action: 5, Reward: 5\n",
      ". G G G G .\n",
      ". . . . . .\n",
      ". . . . . .\n",
      ". . . . . .\n",
      ". . . . . .\n",
      ". . B . . .\n",
      "\n",
      "Action: 4, Reward: 5\n",
      ". G G G G .\n",
      ". . . . . .\n",
      ". . . . . .\n",
      ". . . . . .\n",
      ". . . . . .\n",
      ". B B . . .\n",
      "\n",
      "Action: 7, Reward: 5\n",
      ". G G G G .\n",
      ". . . . . .\n",
      ". . . . . .\n",
      ". . . . . .\n",
      ". . . . . .\n",
      ". B B . B .\n",
      "\n",
      "Action: 6, Reward: 19\n",
      ". G G G G .\n",
      ". . . . . .\n",
      ". . . . . .\n",
      ". . . . . .\n",
      ". . . . . .\n",
      ". B B B B .\n",
      "\n",
      "Action: 2, Reward: 99\n",
      "G . G G G .\n",
      ". . . . . .\n",
      ". . . . . .\n",
      ". . . . . .\n",
      ". . . . . .\n",
      ". B B B B .\n",
      "\n",
      "Game Over! Total Reward: 173\n",
      "\n",
      "Game 4\n",
      ". . . . . .\n",
      ". . . . . .\n",
      ". . . . . .\n",
      ". . . . . .\n",
      ". . . . . .\n",
      ". . . . . .\n",
      "\n",
      "Action: 0, Reward: 10\n",
      ". G . . . .\n",
      ". . . . . .\n",
      ". . . . . .\n",
      ". . . . . .\n",
      ". . . . . .\n",
      ". . . . . .\n",
      "\n",
      "Action: 3, Reward: 10\n",
      ". G . . G .\n",
      ". . . . . .\n",
      ". . . . . .\n",
      ". . . . . .\n",
      ". . . . . .\n",
      ". . . . . .\n",
      "\n",
      "Action: 1, Reward: 10\n",
      ". G G . G .\n",
      ". . . . . .\n",
      ". . . . . .\n",
      ". . . . . .\n",
      ". . . . . .\n",
      ". . . . . .\n",
      "\n",
      "Action: 2, Reward: 10\n",
      ". G G G G .\n",
      ". . . . . .\n",
      ". . . . . .\n",
      ". . . . . .\n",
      ". . . . . .\n",
      ". . . . . .\n",
      "\n",
      "Action: 5, Reward: 5\n",
      ". G G G G .\n",
      ". . . . . .\n",
      ". . . . . .\n",
      ". . . . . .\n",
      ". . . . . .\n",
      ". . B . . .\n",
      "\n",
      "Action: 4, Reward: 5\n",
      ". G G G G .\n",
      ". . . . . .\n",
      ". . . . . .\n",
      ". . . . . .\n",
      ". . . . . .\n",
      ". B B . . .\n",
      "\n",
      "Action: 7, Reward: 5\n",
      ". G G G G .\n",
      ". . . . . .\n",
      ". . . . . .\n",
      ". . . . . .\n",
      ". . . . . .\n",
      ". B B . B .\n",
      "\n",
      "Action: 6, Reward: 19\n",
      ". G G G G .\n",
      ". . . . . .\n",
      ". . . . . .\n",
      ". . . . . .\n",
      ". . . . . .\n",
      ". B B B B .\n",
      "\n",
      "Action: 2, Reward: 99\n",
      "G . G G G .\n",
      ". . . . . .\n",
      ". . . . . .\n",
      ". . . . . .\n",
      ". . . . . .\n",
      ". B B B B .\n",
      "\n",
      "Game Over! Total Reward: 173\n",
      "\n",
      "Game 5\n",
      ". . . . . .\n",
      ". . . . . .\n",
      ". . . . . .\n",
      ". . . . . .\n",
      ". . . . . .\n",
      ". . . . . .\n",
      "\n",
      "Action: 0, Reward: 10\n",
      ". G . . . .\n",
      ". . . . . .\n",
      ". . . . . .\n",
      ". . . . . .\n",
      ". . . . . .\n",
      ". . . . . .\n",
      "\n",
      "Action: 3, Reward: 10\n",
      ". G . . G .\n",
      ". . . . . .\n",
      ". . . . . .\n",
      ". . . . . .\n",
      ". . . . . .\n",
      ". . . . . .\n",
      "\n",
      "Action: 1, Reward: 10\n",
      ". G G . G .\n",
      ". . . . . .\n",
      ". . . . . .\n",
      ". . . . . .\n",
      ". . . . . .\n",
      ". . . . . .\n",
      "\n",
      "Action: 2, Reward: 10\n",
      ". G G G G .\n",
      ". . . . . .\n",
      ". . . . . .\n",
      ". . . . . .\n",
      ". . . . . .\n",
      ". . . . . .\n",
      "\n",
      "Action: 5, Reward: 5\n",
      ". G G G G .\n",
      ". . . . . .\n",
      ". . . . . .\n",
      ". . . . . .\n",
      ". . . . . .\n",
      ". . B . . .\n",
      "\n",
      "Action: 4, Reward: 5\n",
      ". G G G G .\n",
      ". . . . . .\n",
      ". . . . . .\n",
      ". . . . . .\n",
      ". . . . . .\n",
      ". B B . . .\n",
      "\n",
      "Action: 7, Reward: 5\n",
      ". G G G G .\n",
      ". . . . . .\n",
      ". . . . . .\n",
      ". . . . . .\n",
      ". . . . . .\n",
      ". B B . B .\n",
      "\n",
      "Action: 6, Reward: 19\n",
      ". G G G G .\n",
      ". . . . . .\n",
      ". . . . . .\n",
      ". . . . . .\n",
      ". . . . . .\n",
      ". B B B B .\n",
      "\n",
      "Action: 2, Reward: 99\n",
      "G . G G G .\n",
      ". . . . . .\n",
      ". . . . . .\n",
      ". . . . . .\n",
      ". . . . . .\n",
      ". B B B B .\n",
      "\n",
      "Game Over! Total Reward: 173\n",
      "\n",
      "Average Reward over 5 games: 173.00\n"
     ]
    }
   ],
   "source": [
    "\n",
    "\n",
    "# Play games\n",
    "agent.play_games(num_games=5, human_player=True)"
   ]
  }
 ],
 "metadata": {
  "kernelspec": {
   "display_name": "Python 3",
   "language": "python",
   "name": "python3"
  },
  "language_info": {
   "codemirror_mode": {
    "name": "ipython",
    "version": 3
   },
   "file_extension": ".py",
   "mimetype": "text/x-python",
   "name": "python",
   "nbconvert_exporter": "python",
   "pygments_lexer": "ipython3",
   "version": "3.12.2"
  }
 },
 "nbformat": 4,
 "nbformat_minor": 2
}
